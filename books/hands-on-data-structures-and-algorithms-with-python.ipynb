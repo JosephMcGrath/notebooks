{
 "cells": [
  {
   "cell_type": "markdown",
   "metadata": {},
   "source": [
    "# Hands-On Data Structures and Algorithms with Python\n",
    "\n",
    "*Dr. Basant Agarwal & Benjamin Baka*\n"
   ]
  },
  {
   "cell_type": "markdown",
   "metadata": {},
   "source": [
    "## My Notes\n",
    "\n",
    "* This book seems to be about performance of code as much as algorithms in the abstract,\n",
    "    * Though I guess that is a key part of choosing the right tool for the job.\n",
    "* The first few chapters of the book are just an overview of the Python language, I've only made notes on the interesting parts.\n",
    "\n",
    "## Further Reading\n",
    "\n",
    "* [Learning Python by Fabrizio Romano](https://www.packtpub.com/applicationdevelopment/learning-python)"
   ]
  },
  {
   "cell_type": "markdown",
   "metadata": {},
   "source": [
    "## Contents:\n",
    "\n",
    "* [Preface](#Preface)\n",
    "* [Chapter 1](#Chapter-1---Python-Objects,-Types-and-Expressions)\n",
    "* [Chapter 2](#Chapter-2---Python-Data-Types-and-Structures)"
   ]
  },
  {
   "cell_type": "code",
   "execution_count": 1,
   "metadata": {},
   "outputs": [],
   "source": [
    "import os\n",
    "import collections"
   ]
  },
  {
   "cell_type": "markdown",
   "metadata": {},
   "source": [
    "## Preface\n",
    "\n",
    "Data structures and algorithms are important to inofrmation technology and computer science as they make problems more understandable and their solutions more elegant and intuative. They model our thinking and it becomes more important to have them worked out as software projects get larger."
   ]
  },
  {
   "cell_type": "markdown",
   "metadata": {},
   "source": [
    "## Chapter 1 - Python Objects, Types and Expressions\n",
    "\n",
    "### Understanding Data Structures and \n",
    "\n",
    "The three key characteristics outlined for data structures & algorithms here are:\n",
    "\n",
    "* The manipulation of data structures by algorithms,\n",
    "* How data's arranged in memory,\n",
    "* How well different data structures perform under different conditions,\n"
   ]
  },
  {
   "cell_type": "markdown",
   "metadata": {},
   "source": [
    "### Python Primer\n",
    "\n",
    "#### Variable Scope\n",
    "\n",
    "One idiosyncarsy of scoping in is where a variable is defined globally, but then used later in a local scope. For example, this will work fine:"
   ]
  },
  {
   "cell_type": "code",
   "execution_count": 2,
   "metadata": {},
   "outputs": [
    {
     "name": "stdout",
     "output_type": "stream",
     "text": [
      "10\n"
     ]
    }
   ],
   "source": [
    "a = 10\n",
    "\n",
    "def my_function():\n",
    "    print(a)\n",
    "\n",
    "my_function()"
   ]
  },
  {
   "cell_type": "markdown",
   "metadata": {},
   "source": [
    "But this causes an error as the variable is in the local scope even *before* it was defined, causing a ````NameError````:"
   ]
  },
  {
   "cell_type": "code",
   "execution_count": 3,
   "metadata": {},
   "outputs": [
    {
     "name": "stdout",
     "output_type": "stream",
     "text": [
      "local variable 'a' referenced before assignment\n"
     ]
    }
   ],
   "source": [
    "def my_function():\n",
    "    print(a)\n",
    "    a += 1\n",
    "\n",
    "try:\n",
    "    my_function()\n",
    "except NameError as e:\n",
    "    print(e)"
   ]
  },
  {
   "cell_type": "markdown",
   "metadata": {},
   "source": [
    "Which can be mitigated by explicitly naming it as a global function (though generally best avoid having to use corner-cases like this, or global variables at all):"
   ]
  },
  {
   "cell_type": "code",
   "execution_count": 4,
   "metadata": {},
   "outputs": [
    {
     "name": "stdout",
     "output_type": "stream",
     "text": [
      "10\n"
     ]
    }
   ],
   "source": [
    "def my_function():\n",
    "    global a\n",
    "    print(a)\n",
    "    a =+ 1\n",
    "\n",
    "my_function()"
   ]
  },
  {
   "cell_type": "markdown",
   "metadata": {},
   "source": [
    "#### Overview of Objects\n",
    "\n",
    "All objects in python have a type, value and identity. In the example:"
   ]
  },
  {
   "cell_type": "code",
   "execution_count": 5,
   "metadata": {},
   "outputs": [],
   "source": [
    "greet = \"helloworld\""
   ]
  },
  {
   "cell_type": "markdown",
   "metadata": {},
   "source": [
    "The object's type is string, it's value is \"helloworld\" and it's identity is a pointer to the objects location in memory (though this isn't entirely reliable)."
   ]
  },
  {
   "cell_type": "code",
   "execution_count": 6,
   "metadata": {},
   "outputs": [
    {
     "data": {
      "text/plain": [
       "1865398805104"
      ]
     },
     "execution_count": 6,
     "metadata": {},
     "output_type": "execute_result"
    }
   ],
   "source": [
    "id(greet)"
   ]
  },
  {
   "cell_type": "markdown",
   "metadata": {},
   "source": [
    "There's also a few slightly different ways of comparing objects against one another:"
   ]
  },
  {
   "cell_type": "code",
   "execution_count": 7,
   "metadata": {},
   "outputs": [
    {
     "data": {
      "text/plain": [
       "True"
      ]
     },
     "execution_count": 7,
     "metadata": {},
     "output_type": "execute_result"
    }
   ],
   "source": [
    "a, b = 1, 2\n",
    "\n",
    "a == b # a and b have the same value\n",
    "a is b # a and b are the same object\n",
    "type(a) is type(b) # a and b are the same type"
   ]
  },
  {
   "cell_type": "markdown",
   "metadata": {},
   "source": [
    "#### First Class Objects\n",
    "\n",
    "Functions in Python are what's referred to as 'first class objects'. The book gives the following definition for them:\n",
    "\n",
    "> * Created at runtime\n",
    "> * Assigned as a variable or in a data structure\n",
    "> * Passed as an argument to a function\n",
    "> * Returned as the result of a function\n",
    "\n",
    "Though they then go on to note that in Python *all* objects are 'frst class'. Creating functions that take a function as an argument can produce interesting results. The simple example they use is:"
   ]
  },
  {
   "cell_type": "code",
   "execution_count": 8,
   "metadata": {},
   "outputs": [
    {
     "data": {
      "text/plain": [
       "'hello world'"
      ]
     },
     "execution_count": 8,
     "metadata": {},
     "output_type": "execute_result"
    }
   ],
   "source": [
    "def greeting(language):\n",
    "    if language == 'eng':\n",
    "        return 'hello world'\n",
    "    if language == 'fr':\n",
    "        return 'Bonjour le monde'\n",
    "    else:\n",
    "        return 'language not supported'\n",
    "\n",
    "def callf(f):\n",
    "    return f('eng')\n",
    "\n",
    "callf(greeting)"
   ]
  },
  {
   "cell_type": "markdown",
   "metadata": {},
   "source": [
    "The authors highlight this as a way of isolating business logic - the language only needs to be set in *one* place. This leads onto something called 'Higher Order Functions'"
   ]
  },
  {
   "cell_type": "markdown",
   "metadata": {},
   "source": [
    "#### Higher Order Functions\n",
    "\n",
    "> Functions that take other functions as arguments, or that return functions, are called higher order functions.\n",
    "\n",
    "The built-in examples of this are ````filter```` and ````map````. In Python 3 these now return itterators, making them more efficient - making it easier to turn any function into an iterator with ````map```` or with ````lambda```` to create one-time mappings.\n",
    "\n",
    "Higher order functions are a key feature in functional programming. One cute example they've got is just using ````len```` as a sorting key:"
   ]
  },
  {
   "cell_type": "code",
   "execution_count": 9,
   "metadata": {},
   "outputs": [
    {
     "data": {
      "text/plain": [
       "['a', 'is', 'This', 'test', 'with', 'words.', 'several', 'senatnace']"
      ]
     },
     "execution_count": 9,
     "metadata": {},
     "output_type": "execute_result"
    }
   ],
   "source": [
    "words = 'This is a test senatnace with several words.'.split()\n",
    "sorted(words, key = len)"
   ]
  },
  {
   "cell_type": "code",
   "execution_count": 10,
   "metadata": {},
   "outputs": [
    {
     "data": {
      "text/plain": [
       "['a', 'is', 'senatnace', 'several', 'test', 'This', 'with', 'words.']"
      ]
     },
     "execution_count": 10,
     "metadata": {},
     "output_type": "execute_result"
    }
   ],
   "source": [
    "sorted(words, key = str.lower)"
   ]
  },
  {
   "cell_type": "markdown",
   "metadata": {},
   "source": [
    "And for more complex structures, there's always the option of using a ````lambda```` to access the relevant part of the data.\n",
    "\n",
    "There is a convention in Python for methods that modify the object not to return ````None```` to actively demonstrate that nothing's been created. So while ````sorted```` takes a list-like object and returns a list, ````list.sorted```` returns ````None```` even though they share the some of the same arguments."
   ]
  },
  {
   "cell_type": "markdown",
   "metadata": {},
   "source": [
    "#### Recursion\n",
    "\n",
    "One bit of terminology that the book brings up is that recursion is a special type of iteration called *tail iteration*.\n",
    "\n",
    "Recursion is particularly useful for navigating tree strucuttres / linked lists, though are generally slower due to the added overhead of calling all the functions.\n"
   ]
  },
  {
   "cell_type": "markdown",
   "metadata": {},
   "source": [
    "#### Generators and Co-routines\n",
    "\n",
    "Generators as similar to a list, but are more *the instructions to make a list*. This saves quite a bit on having a (potentialy very large) list in memory at once.\n",
    "\n",
    "Quite a few built-in functions were converted to generators in Python 3 (e.g. ````range````), but it's easy to define a custom generator with the ````yield```` keyword rather than ````return````."
   ]
  },
  {
   "cell_type": "code",
   "execution_count": 11,
   "metadata": {},
   "outputs": [
    {
     "name": "stdout",
     "output_type": "stream",
     "text": [
      "[1, 3, 5, 7, 9, 11, 13, 15, 17, 19, 21, 23, 25, 27, 29, 31, 33, 35, 37, 39, 41, 43, 45, 47, 49]\n"
     ]
    }
   ],
   "source": [
    "def odd_generator(n, m):\n",
    "    while n < m:\n",
    "        yield n\n",
    "        n += 2\n",
    "\n",
    "print([x for x in odd_generator(1, 50)])"
   ]
  },
  {
   "cell_type": "markdown",
   "metadata": {},
   "source": [
    "Though there's also *generator expression*, similar to a list comprehension but for generators by using regular brackets:"
   ]
  },
  {
   "cell_type": "code",
   "execution_count": 12,
   "metadata": {},
   "outputs": [
    {
     "data": {
      "text/plain": [
       "<generator object <genexpr> at 0x000001B2526DAB10>"
      ]
     },
     "execution_count": 12,
     "metadata": {},
     "output_type": "execute_result"
    }
   ],
   "source": [
    "(x for x in [1, 2, 3, 4, 5])"
   ]
  },
  {
   "cell_type": "markdown",
   "metadata": {},
   "source": [
    "#### Classes and Object Programming\n",
    "\n",
    "Defining a class in Python doesn't create any instances of the class, for that to happen, the class has to be invoked (and normally assigned to a variable).\n",
    "\n",
    "Functions defined in a class are called *instance methods* and have an instance of the class passed as a method (by convention this is labelled ````self```` but could be anything in practise.)\n",
    "\n",
    "Variables defined inside a class but outside a function are called *class variables* and are shared between all instances of the class (note that these are **not** assigned to ````self````).\n",
    "\n",
    "There are a series of special methods (I've seen them called magic methods too) that by convention have a double underscore (dunder) before and after their name. These plug the function into built in Python behaviour (e.g. ````__add__```` will get called when the variable is added with the ````+```` operator).\n",
    "\n",
    "In general these special methods won't be manually called. One exception the authors bring up is ````__init___```` which can be used to call a classes parrent's initialisation method.\n",
    "\n",
    "##### Inheritance\n",
    "\n",
    "One of the headline features of object-oriented programming is inheritance. It lets one class inherit functionality from another. It keeps all of the methods & vairables attached to the parent but also add / overwrite existing functionality.\n",
    "\n",
    "An object not inheriting from another class can either ommmit the inheritance syntax, or inherit from the ````object```` class."
   ]
  },
  {
   "cell_type": "code",
   "execution_count": 13,
   "metadata": {},
   "outputs": [
    {
     "name": "stdout",
     "output_type": "stream",
     "text": [
      "5 hours worked\n"
     ]
    }
   ],
   "source": [
    "class Employee:\n",
    "    num_employee = 0\n",
    "\n",
    "    def __init__(self, name, rate):\n",
    "        self.owed = 0\n",
    "        self.name = name\n",
    "        self.rate = rate\n",
    "        Employee.num_employee += 1\n",
    "\n",
    "    def __del__(self):\n",
    "        Employee.num_employee -= 1\n",
    "\n",
    "    def hours(self, num_hours):\n",
    "        self.owed += num_hours * self.rate\n",
    "        return f\"{num_hours} hours worked\"\n",
    "\n",
    "    def pay(self):\n",
    "        self.owed = 0\n",
    "        return f\"payed {self.name}\"\n",
    "\n",
    "class special_employee(Employee):\n",
    "    def __init__(self, name, rate, bonus):\n",
    "        Employee.__init__(self, name, rate)\n",
    "        self.bonus = bonus\n",
    "    \n",
    "    def hours(self, num_hours):\n",
    "        self.owed += num_hours * self.rate + self.bonus\n",
    "        return f\"{num_hours} hours worked\"\n",
    "\n",
    "ex1_1 = special_employee('Bob', 10, 1)\n",
    "print(ex1_1.hours(5))"
   ]
  },
  {
   "cell_type": "markdown",
   "metadata": {},
   "source": [
    "Membership / inheritance from a class can be tested with ````isinstance```` (the class or something that inherits from it) or ````issubclass```` (inherits from the class, but isn't a member of it)."
   ]
  },
  {
   "cell_type": "markdown",
   "metadata": {},
   "source": [
    "There are also *class methods* and *static methods* that can be defined using the ````@classmethod```` and ````@staticmethod```` decorators respectively. Their main difference comes down to their scope and what they have access to.\n",
    "\n",
    "Static methods are bound to the class but not any *instance* of that class. They can be called without an instance of the class and don't have access to any attributes of a class. One reason to use these is to group a set of functions together for utility. They don't take the standard ````self```` argument.\n",
    "\n",
    "Class methods work against the defiinition of the class rather than any particular instance of that class. This still allows access to class variables but not instance attributes. By convention the class is passed in under the name ````cls```` rather than ````self````."
   ]
  },
  {
   "cell_type": "markdown",
   "metadata": {},
   "source": [
    "## Chapter 2 - Python Data Types and Structures\n",
    "\n",
    "The book lists the standard set of data types in Python as:\n",
    "\n",
    " Category  | Name      | Desctiption \n",
    "-----------|-----------|--------------------\n",
    " None      | None      | Python's equivilent of null.\n",
    " Numeric   | int       | Integers.\n",
    " Numeric   | float     | Floating point number.\n",
    " Numeric   | complex   | Complex number.\n",
    " Numeric   | bool      | Boolean type (````True```` / ````False````).\n",
    " Sequences | str       | String of characters.\n",
    " Sequences | list      | An ordered list of objects.\n",
    " Sequences | tuple     | An ordered (immutable) list of objects.\n",
    " Sequences | range     | Used to create a range of integers.\n",
    " Mapping   | dict      | An unordered set of key-value pairs.\n",
    " Mapping   | set       | Unordered collection of unique objects.\n",
    " Mapping   | frozenset | An immutable set."
   ]
  },
  {
   "cell_type": "markdown",
   "metadata": {},
   "source": [
    "### None type\n",
    "\n",
    "The ````None```` type indicates a lack of value, similar to ````None```` in other languages. It's returned when there's nothing to return (e.g. a function call that doesn't terminate via ````return````). A standard use for it is to use as a placeholder for optional arguments:"
   ]
  },
  {
   "cell_type": "code",
   "execution_count": 14,
   "metadata": {},
   "outputs": [],
   "source": [
    "def optional_arg_function(opt = None):\n",
    "    if opt is None:\n",
    "        print(\"Default!\")\n",
    "    else:\n",
    "        print(opt)"
   ]
  },
  {
   "cell_type": "markdown",
   "metadata": {},
   "source": [
    "### Numeric Types\n",
    "\n",
    "One of the differences from Python 2 to Python 3 is that division will *always* give a ````float```` in Python 3.\n",
    "\n",
    "#### Complex Numbers\n",
    "\n",
    "Complex numbers are represented by 2 floating point numbers, with the imaginary part being assigned with the ````j```` operator."
   ]
  },
  {
   "cell_type": "code",
   "execution_count": 15,
   "metadata": {},
   "outputs": [
    {
     "name": "stdout",
     "output_type": "stream",
     "text": [
      "(3+5j) <class 'complex'>\n"
     ]
    }
   ],
   "source": [
    "f = 3 + 5j\n",
    "print(f, type(f))"
   ]
  },
  {
   "cell_type": "code",
   "execution_count": 16,
   "metadata": {},
   "outputs": [
    {
     "name": "stdout",
     "output_type": "stream",
     "text": [
      "3.0 5.0\n"
     ]
    }
   ],
   "source": [
    "print(f.real, f.imag)"
   ]
  },
  {
   "cell_type": "code",
   "execution_count": 17,
   "metadata": {},
   "outputs": [
    {
     "name": "stdout",
     "output_type": "stream",
     "text": [
      "(6+10j)\n"
     ]
    }
   ],
   "source": [
    "print(f * 2)"
   ]
  },
  {
   "cell_type": "markdown",
   "metadata": {},
   "source": [
    "#### Boolean\n",
    "\n",
    "The order of priority for boolean operators is ````not````, ````and```` then ````or````.\n",
    "\n",
    "#### Representation Error\n",
    "\n",
    "The ````float```` data type has no protection for representation error from binary to decimal. For this the ````Decimal```` module is useful, or the ````fractions```` module in a slightly more roundabout sort of way."
   ]
  },
  {
   "cell_type": "code",
   "execution_count": 18,
   "metadata": {},
   "outputs": [
    {
     "name": "stdout",
     "output_type": "stream",
     "text": [
      "0.09999999999999998\n"
     ]
    }
   ],
   "source": [
    "print(1 - 0.9)"
   ]
  },
  {
   "cell_type": "markdown",
   "metadata": {},
   "source": [
    "### Sequences\n",
    "\n",
    "#### Identity\n",
    "\n",
    "Test for identity in sequences are a little odd due to them being a reference to a set of values:"
   ]
  },
  {
   "cell_type": "code",
   "execution_count": 19,
   "metadata": {},
   "outputs": [
    {
     "name": "stdout",
     "output_type": "stream",
     "text": [
      "True\n"
     ]
    }
   ],
   "source": [
    "ex2_1 = [1, 2, 3]\n",
    "ex2_2 = [1, 2, 3]\n",
    "\n",
    "print(ex2_1 == ex2_2)"
   ]
  },
  {
   "cell_type": "code",
   "execution_count": 20,
   "metadata": {},
   "outputs": [
    {
     "name": "stdout",
     "output_type": "stream",
     "text": [
      "False\n"
     ]
    }
   ],
   "source": [
    "print(ex2_1 is ex2_2)"
   ]
  },
  {
   "cell_type": "code",
   "execution_count": 21,
   "metadata": {},
   "outputs": [
    {
     "name": "stdout",
     "output_type": "stream",
     "text": [
      "True\n"
     ]
    }
   ],
   "source": [
    "ex2_1 = ex2_2\n",
    "print(ex2_1 is ex2_2)"
   ]
  },
  {
   "cell_type": "markdown",
   "metadata": {},
   "source": [
    "### Mappings\n",
    "\n",
    "#### Dictionaries for Text Analysis\n",
    "\n",
    "Dictionaries are particularly suited to counting unique instances of values (e.g. word counts). I've also seen them used in Markov chains with a similar workflow."
   ]
  },
  {
   "cell_type": "code",
   "execution_count": 22,
   "metadata": {},
   "outputs": [
    {
     "data": {
      "text/plain": [
       "{'the': 3062, 'of': 1579, 'and': 1496, 'to': 1379, 'I': 1257}"
      ]
     },
     "execution_count": 22,
     "metadata": {},
     "output_type": "execute_result"
    }
   ],
   "source": [
    "def read_file(src):\n",
    "    with open(src, encoding=\"utf-8\") as f:\n",
    "        out = f.readlines()\n",
    "    return ''.join(out)\n",
    "\n",
    "def wordcount(text):\n",
    "    out = {}\n",
    "    for word in text.split():\n",
    "        if word in out:\n",
    "            out[word] += 1\n",
    "        else:\n",
    "            out[word] = 1\n",
    "    return out\n",
    "\n",
    "source_file = os.path.join(os.path.split(os.getcwd())[0],\n",
    "                           'data', 'the-hound-of-the-baskervilles.md'\n",
    "                          )\n",
    "ex2_3 = wordcount(read_file(source_file))\n",
    "#for word in list(ex2_3)[:10]:\n",
    "#    print(word, '\\t:', ex2_3[word])\n",
    "\n",
    "ex2_4 = sorted(ex2_3, key = lambda x: ex2_3[x], reverse = True)\n",
    "{key : ex2_3[key] for key in ex2_4[:5]}"
   ]
  },
  {
   "cell_type": "markdown",
   "metadata": {},
   "source": [
    "#### Sets\n",
    "\n",
    "Sets can be defined using curly braces (only non-empty sets) and can be frozen with ````frozenset()````. As frozen sets are immuable they're also hashable and can be used as keys etc.\n",
    "\n",
    "Sets also have a series of functions to compute intersections, superset tests etc between each other. These need to be other sets (though the methods to add items will take any sort of itterable."
   ]
  },
  {
   "cell_type": "code",
   "execution_count": 23,
   "metadata": {},
   "outputs": [
    {
     "name": "stdout",
     "output_type": "stream",
     "text": [
      "{1, 2, 3, 4, 5, 9, 10, 50}\n"
     ]
    }
   ],
   "source": [
    "ex2_5 = {1, 2, 3, 4, 1}\n",
    "ex2_6 = {2, 5, 9, 10 , 50}\n",
    "\n",
    "print(ex2_5.union(ex2_6))"
   ]
  },
  {
   "cell_type": "code",
   "execution_count": 24,
   "metadata": {},
   "outputs": [
    {
     "name": "stdout",
     "output_type": "stream",
     "text": [
      "{2}\n"
     ]
    }
   ],
   "source": [
    "print(ex2_5.intersection(ex2_6))"
   ]
  },
  {
   "cell_type": "code",
   "execution_count": 25,
   "metadata": {},
   "outputs": [
    {
     "name": "stdout",
     "output_type": "stream",
     "text": [
      "True\n"
     ]
    }
   ],
   "source": [
    "print({2}.issubset(ex2_5))"
   ]
  },
  {
   "cell_type": "markdown",
   "metadata": {},
   "source": [
    "### Notable Modules\n",
    "\n",
    "A few other modules have useful *Abstract Data Types* (ADTs):\n",
    "\n",
    "#### Collections\n",
    "\n",
    "The ````collections```` module has a lot of specialised data types. These generally fill in gaps left by the bulit-in classes.\n",
    "\n",
    "* ````namedtuple```` is siimlar to a tuple, but allows fields to be named.\n",
    "    * Both the tuple itself and it's fields are named.\n",
    "    * Field names are passed in as a sequence or a set of comma-separated values.\n",
    "* ````deque```` is a list that's optimised for quick appending / popping at either end (doulbe-ended queeues).\n",
    "    * Can be accessed by indexes but not slices.\n",
    "    * *Slightly* less efficient on appending to the end than regular ````list````s with the bonus of being much quicker to edit the front end of with methods like ````popleft```` and ````rotate````.\n",
    "    * Has a useful ````maxlen```` option that is usefull if that's a requirement of your application. Adding items beyond the limit will push items off the other end.\n",
    "    * Can emulate slicing with ````ittertools.islice()````.\n",
    "* ````ChainMap```` is an interface for meshing multiple dictionaries together.\n",
    "    * Dictionaries put in more recently will have a higher priority for the same keys, letting values be overwritten as needed.\n",
    "* ````Counter```` makes counting hashable objects easier.\n",
    "    * Accessing items not already put in will return 0 rather than an error.\n",
    "* ````OrderedDict```` is like a dictionary that remembers the order items are entered.\n",
    "    * Equality between ````OrderedDict````s also depends on the orders of the keys, not just the key-value pairs.\n",
    "* ````defaultdict```` is like a dictionary that stores a function to used if a particular key doesn't exist.\n",
    "* ````UserDict````, ````UserList```` and ````UserString```` are largely obselete but are basically mirrors of their respective base classes that are slightly less locked down and so can be adjusted easier."
   ]
  },
  {
   "cell_type": "code",
   "execution_count": 27,
   "metadata": {},
   "outputs": [
    {
     "name": "stdout",
     "output_type": "stream",
     "text": [
      "defaultdict(<class 'int'>, {'red': 4, 'blue': 2, 'green': 3, 'yellow': 1})\n"
     ]
    }
   ],
   "source": [
    "ex2_7 = collections.defaultdict(int)\n",
    "\n",
    "for i in 'red blue green red yellow blue red green green red'.split():\n",
    "    ex2_7[i] += 1\n",
    "\n",
    "print(ex2_7)"
   ]
  },
  {
   "cell_type": "markdown",
   "metadata": {},
   "source": [
    "#### Array\n",
    "\n",
    "The ````array```` module provides an object type (also called ````array````) that is like a list but must be of a single type (determined at creation time)."
   ]
  },
  {
   "cell_type": "markdown",
   "metadata": {},
   "source": [
    "Current progress: p63"
   ]
  }
 ],
 "metadata": {
  "kernelspec": {
   "display_name": "Python 3",
   "language": "python",
   "name": "python3"
  },
  "language_info": {
   "codemirror_mode": {
    "name": "ipython",
    "version": 3
   },
   "file_extension": ".py",
   "mimetype": "text/x-python",
   "name": "python",
   "nbconvert_exporter": "python",
   "pygments_lexer": "ipython3",
   "version": "3.7.1"
  }
 },
 "nbformat": 4,
 "nbformat_minor": 2
}
