{
 "cells": [
  {
   "cell_type": "markdown",
   "metadata": {},
   "source": [
    "# Hands-On Data Structures and Algorithms with Python\n",
    "\n",
    "*Dr. Basant Agarwal & Benjamin Baka*\n"
   ]
  },
  {
   "cell_type": "markdown",
   "metadata": {},
   "source": [
    "## My Notes\n",
    "\n",
    "* This book seems to be about performance of code as much as algorithms in the abstract,\n",
    "    * Though I guess that is a key part of choosing the right tool for the job."
   ]
  },
  {
   "cell_type": "markdown",
   "metadata": {},
   "source": [
    "## Preface\n",
    "\n",
    "Data structures and algorithms are important to inofrmation technology and computer science as they make problems more understandable and their solutions more elegant and intuative. They model our thinking and it becomes more important to have them worked out as software projects get larger."
   ]
  },
  {
   "cell_type": "markdown",
   "metadata": {},
   "source": [
    "## Chapter 1 - Python Objects, Types and Expressions\n",
    "\n",
    "### Understanding Data Structures and \n",
    "\n",
    "The three key characteristics outlined for data structures & algorithms here are:\n",
    "\n",
    "* The manipulation of data structures by algorithms,\n",
    "* How data's arranged in memory,\n",
    "* How well different data structures perform under different conditions,\n",
    "\n",
    "p.26 / 32"
   ]
  }
 ],
 "metadata": {
  "kernelspec": {
   "display_name": "Python 3",
   "language": "python",
   "name": "python3"
  },
  "language_info": {
   "codemirror_mode": {
    "name": "ipython",
    "version": 3
   },
   "file_extension": ".py",
   "mimetype": "text/x-python",
   "name": "python",
   "nbconvert_exporter": "python",
   "pygments_lexer": "ipython3",
   "version": "3.7.1"
  }
 },
 "nbformat": 4,
 "nbformat_minor": 2
}
