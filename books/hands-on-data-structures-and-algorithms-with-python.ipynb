{
 "cells": [
  {
   "cell_type": "markdown",
   "metadata": {},
   "source": [
    "# Hands-On Data Structures and Algorithms with Python\n",
    "\n",
    "*Dr. Basant Agarwal & Benjamin Baka*\n"
   ]
  },
  {
   "cell_type": "markdown",
   "metadata": {},
   "source": [
    "## My Notes\n",
    "\n",
    "* This book seems to be about performance of code as much as algorithms in the abstract,\n",
    "    * Though I guess that is a key part of choosing the right tool for the job."
   ]
  },
  {
   "cell_type": "markdown",
   "metadata": {},
   "source": [
    "## Contents:\n",
    "\n",
    "* [Preface](#Preface)\n",
    "* [Chapter 1](#Chapter-1---Python-Objects,-Types-and-Expressions)"
   ]
  },
  {
   "cell_type": "markdown",
   "metadata": {},
   "source": [
    "## Preface\n",
    "\n",
    "Data structures and algorithms are important to inofrmation technology and computer science as they make problems more understandable and their solutions more elegant and intuative. They model our thinking and it becomes more important to have them worked out as software projects get larger."
   ]
  },
  {
   "cell_type": "markdown",
   "metadata": {},
   "source": [
    "## Chapter 1 - Python Objects, Types and Expressions\n",
    "\n",
    "### Understanding Data Structures and \n",
    "\n",
    "The three key characteristics outlined for data structures & algorithms here are:\n",
    "\n",
    "* The manipulation of data structures by algorithms,\n",
    "* How data's arranged in memory,\n",
    "* How well different data structures perform under different conditions,\n"
   ]
  },
  {
   "cell_type": "markdown",
   "metadata": {},
   "source": [
    "### Python Primer\n",
    "\n",
    "#### Variable Scope\n",
    "\n",
    "One idiosyncarsy of scoping in is where a variable is defined globally, but then used later in a local scope. For example, this will work fine:"
   ]
  },
  {
   "cell_type": "code",
   "execution_count": 1,
   "metadata": {},
   "outputs": [
    {
     "name": "stdout",
     "output_type": "stream",
     "text": [
      "10\n"
     ]
    }
   ],
   "source": [
    "a = 10\n",
    "\n",
    "def my_function():\n",
    "    print(a)\n",
    "\n",
    "my_function()"
   ]
  },
  {
   "cell_type": "markdown",
   "metadata": {},
   "source": [
    "But this causes an error as the variable is in the local scope even *before* it was defined, causing a ````NameError````:"
   ]
  },
  {
   "cell_type": "code",
   "execution_count": 2,
   "metadata": {},
   "outputs": [
    {
     "name": "stdout",
     "output_type": "stream",
     "text": [
      "local variable 'a' referenced before assignment\n"
     ]
    }
   ],
   "source": [
    "def my_function():\n",
    "    print(a)\n",
    "    a += 1\n",
    "\n",
    "try:\n",
    "    my_function()\n",
    "except NameError as e:\n",
    "    print(e)"
   ]
  },
  {
   "cell_type": "markdown",
   "metadata": {},
   "source": [
    "Which can be mitigated by explicitly naming it as a global function (though generally best avoid having to use corner-cases like this, or global variables at all):"
   ]
  },
  {
   "cell_type": "code",
   "execution_count": 3,
   "metadata": {},
   "outputs": [
    {
     "name": "stdout",
     "output_type": "stream",
     "text": [
      "10\n"
     ]
    }
   ],
   "source": [
    "def my_function():\n",
    "    global a\n",
    "    print(a)\n",
    "    a =+ 1\n",
    "\n",
    "my_function()"
   ]
  },
  {
   "cell_type": "markdown",
   "metadata": {},
   "source": [
    "#### Overview of Objects\n",
    "\n",
    "All objects in python have a type, value and identity. In the example:"
   ]
  },
  {
   "cell_type": "code",
   "execution_count": 4,
   "metadata": {},
   "outputs": [],
   "source": [
    "greet = \"helloworld\""
   ]
  },
  {
   "cell_type": "markdown",
   "metadata": {},
   "source": [
    "The object's type is string, it's value is \"helloworld\" and it's identity is a pointer to the objects location in memory (though this isn't entirely reliable)."
   ]
  },
  {
   "cell_type": "code",
   "execution_count": 5,
   "metadata": {},
   "outputs": [
    {
     "data": {
      "text/plain": [
       "3068305196272"
      ]
     },
     "execution_count": 5,
     "metadata": {},
     "output_type": "execute_result"
    }
   ],
   "source": [
    "id(greet)"
   ]
  },
  {
   "cell_type": "markdown",
   "metadata": {},
   "source": [
    "There's also a few slightly different ways of comparing objects against one another:"
   ]
  },
  {
   "cell_type": "code",
   "execution_count": 6,
   "metadata": {},
   "outputs": [
    {
     "data": {
      "text/plain": [
       "True"
      ]
     },
     "execution_count": 6,
     "metadata": {},
     "output_type": "execute_result"
    }
   ],
   "source": [
    "a, b = 1, 2\n",
    "\n",
    "a == b # a and b have the same value\n",
    "a is b # a and b are the same object\n",
    "type(a) is type(b) # a and b are the same type"
   ]
  },
  {
   "cell_type": "markdown",
   "metadata": {},
   "source": [
    "#### First Class Objects\n",
    "\n",
    "Functions in Python are what's referred to as 'first class objects'. The book gives the following definition for them:\n",
    "\n",
    "> * Created at runtime\n",
    "> * Assigned as a variable or in a data structure\n",
    "> * Passed as an argument to a function\n",
    "> * Returned as the result of a function\n",
    "\n",
    "Though they then go on to note that in Python *all* objects are 'frst class'. Creating functions that take a function as an argument can produce interesting results. The simple example they use is:"
   ]
  },
  {
   "cell_type": "code",
   "execution_count": 7,
   "metadata": {},
   "outputs": [
    {
     "data": {
      "text/plain": [
       "'hello world'"
      ]
     },
     "execution_count": 7,
     "metadata": {},
     "output_type": "execute_result"
    }
   ],
   "source": [
    "def greeting(language):\n",
    "    if language == 'eng':\n",
    "        return 'hello world'\n",
    "    if language == 'fr':\n",
    "        return 'Bonjour le monde'\n",
    "    else:\n",
    "        return 'language not supported'\n",
    "\n",
    "def callf(f):\n",
    "    return f('eng')\n",
    "\n",
    "callf(greeting)"
   ]
  },
  {
   "cell_type": "markdown",
   "metadata": {},
   "source": [
    "The authors highlight this as a way of isolating business logic - the language only needs to be set in *one* place. This leads onto something called 'Higher Order Functions'"
   ]
  },
  {
   "cell_type": "markdown",
   "metadata": {},
   "source": [
    "#### Higher Order Functions\n",
    "\n",
    "> Functions that take other functions as arguments, or that return functions, are called higher order functions.\n",
    "\n",
    "The built-in examples of this are ````filter```` and ````map````. In Python 3 these now return itterators, making them more efficient - making it easier to turn any function into an iterator with ````map```` or with ````lambda```` to create one-time mappings.\n",
    "\n",
    "Higher order functions are a key feature in functional programming. One cute example they've got is just using ````len```` as a sorting key:"
   ]
  },
  {
   "cell_type": "code",
   "execution_count": 8,
   "metadata": {},
   "outputs": [
    {
     "data": {
      "text/plain": [
       "['a', 'is', 'This', 'test', 'with', 'words.', 'several', 'senatnace']"
      ]
     },
     "execution_count": 8,
     "metadata": {},
     "output_type": "execute_result"
    }
   ],
   "source": [
    "words = 'This is a test senatnace with several words.'.split()\n",
    "sorted(words, key = len)"
   ]
  },
  {
   "cell_type": "code",
   "execution_count": 9,
   "metadata": {},
   "outputs": [
    {
     "data": {
      "text/plain": [
       "['a', 'is', 'senatnace', 'several', 'test', 'This', 'with', 'words.']"
      ]
     },
     "execution_count": 9,
     "metadata": {},
     "output_type": "execute_result"
    }
   ],
   "source": [
    "sorted(words, key = str.lower)"
   ]
  },
  {
   "cell_type": "markdown",
   "metadata": {},
   "source": [
    "And for more complex structures, there's always the option of using a ````lambda```` to access the relevant part of the data.\n",
    "\n",
    "There is a convention in Python for methods that modify the object not to return ````None```` to actively demonstrate that nothing's been created. So while ````sorted```` takes a list-like object and returns a list, ````list.sorted```` returns ````None```` even though they share the some of the same arguments."
   ]
  },
  {
   "cell_type": "markdown",
   "metadata": {},
   "source": [
    "#### Recursion\n",
    "\n",
    "One bit of terminology that the book brings up is that recursion is a special type of iteration called *tail iteration*.\n",
    "\n",
    "Recursion is particularly useful for navigating tree strucuttres / linked lists, though are generally slower due to the added overhead of calling all the functions.\n"
   ]
  },
  {
   "cell_type": "markdown",
   "metadata": {},
   "source": [
    "#### Generators and Co-routines\n",
    "\n",
    "Generators as similar to a list, but are more *the instructions to make a list*. This saves quite a bit on having a (potentialy very large) list in memory at once.\n",
    "\n",
    "Quite a few built-in functions were converted to generators in Python 3 (e.g. ````range````), but it's easy to define a custom generator with the ````yield```` keyword rather than ````return````."
   ]
  },
  {
   "cell_type": "code",
   "execution_count": 10,
   "metadata": {},
   "outputs": [
    {
     "name": "stdout",
     "output_type": "stream",
     "text": [
      "[1, 3, 5, 7, 9, 11, 13, 15, 17, 19, 21, 23, 25, 27, 29, 31, 33, 35, 37, 39, 41, 43, 45, 47, 49]\n"
     ]
    }
   ],
   "source": [
    "def odd_generator(n, m):\n",
    "    while n < m:\n",
    "        yield n\n",
    "        n += 2\n",
    "\n",
    "print([x for x in odd_generator(1, 50)])"
   ]
  },
  {
   "cell_type": "markdown",
   "metadata": {},
   "source": [
    "Though there's also *generator expression*, similar to a list comprehension but for generators by using regular brackets:"
   ]
  },
  {
   "cell_type": "code",
   "execution_count": 11,
   "metadata": {},
   "outputs": [
    {
     "data": {
      "text/plain": [
       "<generator object <genexpr> at 0x000002CA6538F318>"
      ]
     },
     "execution_count": 11,
     "metadata": {},
     "output_type": "execute_result"
    }
   ],
   "source": [
    "(x for x in [1, 2, 3, 4, 5])"
   ]
  },
  {
   "cell_type": "markdown",
   "metadata": {},
   "source": [
    "#### Classes and Object Programming\n",
    "\n",
    "Defining a class in Python doesn't create any instances of the class, for that to happen, the class has to be invoked (and normally assigned to a variable)."
   ]
  },
  {
   "cell_type": "markdown",
   "metadata": {},
   "source": [
    "Current progress: p46"
   ]
  }
 ],
 "metadata": {
  "kernelspec": {
   "display_name": "Python 3",
   "language": "python",
   "name": "python3"
  },
  "language_info": {
   "codemirror_mode": {
    "name": "ipython",
    "version": 3
   },
   "file_extension": ".py",
   "mimetype": "text/x-python",
   "name": "python",
   "nbconvert_exporter": "python",
   "pygments_lexer": "ipython3",
   "version": "3.7.1"
  }
 },
 "nbformat": 4,
 "nbformat_minor": 2
}
