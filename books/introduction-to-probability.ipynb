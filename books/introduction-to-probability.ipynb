{
 "cells": [
  {
   "cell_type": "markdown",
   "metadata": {},
   "source": [
    "# Introduction to Probability\n",
    "\n",
    "By Charles M. Grinstead & J. Laurie Snell  \n",
    "Notes by Joe McGrath\n",
    "\n",
    "[Link to the book](https://www.dartmouth.edu/~chance/teaching_aids/books_articles/probability_book/amsbook.mac.pdf)\n",
    "\n",
    "This is a PDF I was recommended as a way to get back up to speed on probability as a preparation for machine learning. The resources around it are in a varietyy of computer languages, but I'm converting it to Python as I go."
   ]
  },
  {
   "cell_type": "code",
   "execution_count": 1,
   "metadata": {},
   "outputs": [],
   "source": [
    "%matplotlib inline\n",
    "\n",
    "import random # Random number generation.\n",
    "import collections # For simpler counters etc.\n",
    "import matplotlib.pyplot as plt # Creating graphs\n",
    "\n",
    "# Setting seed for a consistent output\n",
    "random.seed(0)"
   ]
  },
  {
   "cell_type": "markdown",
   "metadata": {},
   "source": [
    "## Contents\n",
    "\n",
    "* [1 - Discrete Probability Distributions](#Chapter-1---Discrete-Probability-Distributions)\n",
    "    * [Probability](#Probability)\n",
    "    * [Simulation](#Simulation)\n",
    "    * X\n",
    "    * [Exercises](#Chapter-1-Exercises)\n",
    "* [2 - Continuous Probability Densities](#Chapter-2---Continuous-Probability-Densities)"
   ]
  },
  {
   "cell_type": "markdown",
   "metadata": {},
   "source": [
    "## Chapter 1 - Discrete Probability Distributions\n",
    "\n",
    "(PDF page 11)\n",
    "\n",
    "## 1.1 - Simulation of Discrete Probabilities\n",
    "\n",
    "### Probability\n",
    "\n",
    "This chapter deals with chance experiments with a finite number of possible outcomes, e.g. a coin toss or dice roll.\n",
    "\n",
    "By convention, the possible outcomes of these are referred to with the notation: 'ω1, ω2, . . . , ωn'.\n",
    "\n",
    "> A *random variable* is an expression whose value is the outcome of a particular experiment.\n",
    "\n",
    "For example if X is a random variable representing a dice roll, we can assign each outcome (````ωj````) of the experiment a probability (````m(ωj)````). These probabilities must be a non-negative number such that:\n",
    "\n",
    "    m(ω1) + m(ω2) + · · · + m(ω6) = 1\n",
    "\n",
    "The proper name for the function ````m(ωj)```` is the *distribution function* of the random variable X. In this case, the outcome of the probability function is always 1/6.\n",
    "\n",
    "In most actual example, the distribution of outcomes isn't even. The example given here is a drug that's effective 30% of the time it's used. In this case, any time the drug is used, the probability it's effective is 0.3 and the probability it's ineffective is 0.7. This is called the *frequency concept of probability* - if we know the probability of an outcome, then as the number of repetitions increases, the observations will trend towards matching that probability.\n",
    "\n",
    "### Simulation\n",
    "\n",
    "If we know the probabilities attached to each outcome, we can simulate the result in a computer (in theory we could also use a dice with an appropriate number of sides, but that's a bit impractical).\n",
    "\n",
    "The greater power of simulations is to estimate probabilities that are *not* known.\n",
    "\n",
    "### Random Numbers\n",
    "\n",
    "*Random number generators* are the class of function that deal with random numbers.\n",
    "\n",
    "In Python, the stanard library for this is handily called [random](https://docs.python.org/3/library/random.html), and deals quite nicely with most of Python's normal data structures. This largely bypasses the technical details of the book.\n",
    "\n",
    "As in all cases with computers, it's worth noting the numbers are [pseudorandom](https://en.wikipedia.org/wiki/Pseudorandomness) (i.e. not *actually* random, but pulled from some esoteric input) unless the computer is pulling in some [external source of randomness](https://www.youtube.com/watch?v=SxP30euw3-0). With Python it's possible to set the *seed* of the generator, so that it starts out at the same point (for repeatability, see the top of this document).\n",
    "\n",
    "**Example 1.1 - Random Number Generation**"
   ]
  },
  {
   "cell_type": "code",
   "execution_count": 2,
   "metadata": {},
   "outputs": [
    {
     "name": "stdout",
     "output_type": "stream",
     "text": [
      "[0.8444218515250481, 0.7579544029403025, 0.420571580830845, 0.25891675029296335, 0.5112747213686085, 0.4049341374504143, 0.7837985890347726, 0.30331272607892745, 0.4765969541523558, 0.5833820394550312, 0.9081128851953352, 0.5046868558173903, 0.28183784439970383, 0.7558042041572239, 0.6183689966753316, 0.25050634136244054, 0.9097462559682401, 0.9827854760376531, 0.8102172359965896, 0.9021659504395827]\n"
     ]
    }
   ],
   "source": [
    "def random_numbers(n = 1):\n",
    "    \"\"\"Generate n random numbers.\"\"\"\n",
    "    return [random.random() for _ in range(n)]\n",
    "\n",
    "print(random_numbers(20))"
   ]
  },
  {
   "cell_type": "markdown",
   "metadata": {},
   "source": [
    "**Example 1.2 - Coin Tossing**"
   ]
  },
  {
   "cell_type": "code",
   "execution_count": 3,
   "metadata": {},
   "outputs": [
    {
     "name": "stdout",
     "output_type": "stream",
     "text": [
      "['T', 'H', 'H', 'T', 'T', 'H', 'T', 'T', 'T', 'H', 'T', 'T', 'T', 'H', 'H', 'H', 'T', 'H', 'T', 'T']\n",
      "Counter({'T': 12, 'H': 8})\n"
     ]
    }
   ],
   "source": [
    "def coin_toss(n = 1):\n",
    "    \"\"\"A group of coin tosses.\"\"\"\n",
    "    return [random.choice(['H', 'T']) for _ in range(n)]\n",
    "\n",
    "toss = coin_toss(20)\n",
    "print(toss)\n",
    "print(collections.Counter(toss))"
   ]
  },
  {
   "cell_type": "markdown",
   "metadata": {},
   "source": [
    "Note that with such a small sample size, the counts can easily be off by a large margin from the raw probibilities - this gets averaged out over a large number of observations."
   ]
  },
  {
   "cell_type": "code",
   "execution_count": 4,
   "metadata": {},
   "outputs": [
    {
     "name": "stdout",
     "output_type": "stream",
     "text": [
      "Counter({'H': 5020, 'T': 4980})\n"
     ]
    }
   ],
   "source": [
    "print(collections.Counter(coin_toss(10000)))"
   ]
  },
  {
   "cell_type": "markdown",
   "metadata": {},
   "source": [
    "**Example 1.3 Dice Rolling**\n",
    "\n",
    "This example comes from a [famous game](http://mathworld.wolfram.com/deMeresProblem.html) played in Pascal / Fermat's time. The end-point of the story is 2 games:\n",
    "\n",
    "1. Rolling 4 dice and seeing if a 6 comes up once.\n",
    "2. Rolling 24 / 25 pairs of dice and seeing if a pair of 6's comes up.\n"
   ]
  },
  {
   "cell_type": "code",
   "execution_count": 5,
   "metadata": {},
   "outputs": [
    {
     "name": "stdout",
     "output_type": "stream",
     "text": [
      "Counter({True: 511, False: 489})\n"
     ]
    },
    {
     "data": {
      "text/plain": [
       "[<matplotlib.lines.Line2D at 0x8bc87b8>]"
      ]
     },
     "execution_count": 5,
     "metadata": {},
     "output_type": "execute_result"
    },
    {
     "data": {
      "image/png": "[encoded data removed]",
      "text/plain": [
       "<matplotlib.figure.Figure at 0x88124e0>"
      ]
     },
     "metadata": {},
     "output_type": "display_data"
    }
   ],
   "source": [
    "def dice_roll(n = 1, d = 6):\n",
    "    \"\"\"Roll a number of dice, by default 6-sided dice.\"\"\"\n",
    "    return [random.choice(range(d)) + 1 for _ in range(n)]\n",
    "\n",
    "def de_mere_1(n = 50, x = 4):\n",
    "    \"\"\"Rolls x dice n times and checks how many times a 6 comes up.\"\"\"\n",
    "    return collections.Counter([6 in dice_roll(x) for _ in range(n)])\n",
    "\n",
    "def de_mere_1_plot(n = 50, x = 4):\n",
    "    counter = 0\n",
    "    output = [None] * n\n",
    "    for i in range(n):\n",
    "        counter += 6 in dice_roll(x)\n",
    "        output[i] = counter / (i + 1)\n",
    "    return output\n",
    "\n",
    "print(de_mere_1(1000))\n",
    "\n",
    "plt.plot(de_mere_1_plot(500))"
   ]
  },
  {
   "cell_type": "markdown",
   "metadata": {},
   "source": [
    "So this game is *slightly* favourable to the person betting on there being a 6. The authors note that it's easily popssible for such a narrow margin to go either way in a small sample set - there's plenty of places on the graph with a probability lower than half.\n",
    "\n",
    "> *Accurate results by simulation require a large number of experiments.*\n"
   ]
  },
  {
   "cell_type": "code",
   "execution_count": 6,
   "metadata": {},
   "outputs": [
    {
     "name": "stdout",
     "output_type": "stream",
     "text": [
      "Counter({False: 506, True: 494})\n"
     ]
    },
    {
     "data": {
      "text/plain": [
       "[<matplotlib.lines.Line2D at 0x8c71128>]"
      ]
     },
     "execution_count": 6,
     "metadata": {},
     "output_type": "execute_result"
    },
    {
     "data": {
      "image/png": "[encoded data removed]",
      "text/plain": [
       "<matplotlib.figure.Figure at 0x8ba05f8>"
      ]
     },
     "metadata": {},
     "output_type": "display_data"
    }
   ],
   "source": [
    "def multi_dice_roll(x = 3, n = 2, d = 6):\n",
    "    \"\"\"Rolls x sets of n dice. Results are sorted for easier comparison.\"\"\"\n",
    "    rolls = [dice_roll(n, d) for _ in range(x)]\n",
    "    for roll in rolls:\n",
    "        roll.sort()\n",
    "    return rolls\n",
    "\n",
    "def rolls_to_str(rolls):\n",
    "    \"\"\"Converts a list of rolls into a list of strings for easier counting.\"\"\"\n",
    "    return [str(x) + '|' + str(y) for x, y in rolls]\n",
    "\n",
    "def de_mere_2_single(x = 24):\n",
    "    return '6|6' in rolls_to_str(multi_dice_roll(x))\n",
    "\n",
    "def de_mere_2(x = 1000, n = 24):\n",
    "    return [de_mere_2_single(n) for _ in range(x)]\n",
    "\n",
    "def de_mere_2_plot(x = 1000, n = 24):\n",
    "    results = de_mere_2(x, n)\n",
    "    counter = 0\n",
    "    output = [None] * x\n",
    "    for i in range(len(results)):\n",
    "        counter += results[i]\n",
    "        output[i] = counter / (i + 1)\n",
    "    \n",
    "    return output\n",
    "\n",
    "print(collections.Counter(de_mere_2(1000)))\n",
    "plt.plot(de_mere_2_plot(500, 24))"
   ]
  },
  {
   "cell_type": "markdown",
   "metadata": {},
   "source": [
    "> in these types of experiments, a rough rule of thumb is that, at least 95% of the time, the error doesnot exceed the reciprocal of the square root of the number of trials.\n",
    "\n",
    "For simple games like this, we don't really *need* the simulations as we can calculate the statistics. In this case we know the probability of *not* rolling a 6 is 5/6, with each subsequent roll being another multiple of 5/6, so:"
   ]
  },
  {
   "cell_type": "code",
   "execution_count": 7,
   "metadata": {},
   "outputs": [
    {
     "data": {
      "text/plain": [
       "0.5177469135802468"
      ]
     },
     "execution_count": 7,
     "metadata": {},
     "output_type": "execute_result"
    }
   ],
   "source": [
    "1 - (5/6) ** 4"
   ]
  },
  {
   "cell_type": "markdown",
   "metadata": {},
   "source": [
    "An for the second game, the chance of a pair of 6's is 35 / 36, so for 24 / 25 rolls respectively:"
   ]
  },
  {
   "cell_type": "code",
   "execution_count": 8,
   "metadata": {},
   "outputs": [
    {
     "name": "stdout",
     "output_type": "stream",
     "text": [
      "0.4914038761309034\n",
      "0.5055315462383783\n"
     ]
    }
   ],
   "source": [
    "print(1 - (35/36) ** 24)\n",
    "print(1 - (35/36) ** 25)"
   ]
  },
  {
   "cell_type": "markdown",
   "metadata": {},
   "source": [
    "And with the above rule of thumb, we can calculate how many trials we'd need to work out if the result of these is above or below 0.5:"
   ]
  },
  {
   "cell_type": "code",
   "execution_count": 9,
   "metadata": {},
   "outputs": [
    {
     "data": {
      "text/plain": [
       "27777.777777777774"
      ]
     },
     "execution_count": 9,
     "metadata": {},
     "output_type": "execute_result"
    }
   ],
   "source": [
    "(1 / 0.006) ** 2"
   ]
  },
  {
   "cell_type": "markdown",
   "metadata": {},
   "source": [
    "**Example 1.4**\n",
    "\n",
    "This is an example of using a simulation to estimate the probability of something that's not a simple 'this then that' question. In this case the game is that a set of 40 coins is flipped, for each head Peter takes 1 penny of Paul and for each tail, Paul takes a penny of Peter.\n",
    "\n",
    "If we want to know the answer to questions like 'what is the chance that Peter has j pennies at the end of the game' or 'how many times with Peter be in the lead at the end of the game' (with a draw being counted as a win)."
   ]
  },
  {
   "cell_type": "code",
   "execution_count": 10,
   "metadata": {},
   "outputs": [
    {
     "name": "stdout",
     "output_type": "stream",
     "text": [
      "[1, 2, 3, 2, 3, 2, 3, 2, 3, 2, 3, 4, 5, 6, 5, 4, 5, 6, 7, 8, 9, 8, 7, 8, 7, 6, 5, 6, 5, 6, 5, 4, 3, 4, 3, 4, 5, 4, 5, 6]\n"
     ]
    },
    {
     "data": {
      "text/plain": [
       "[<matplotlib.lines.Line2D at 0x8cd25c0>]"
      ]
     },
     "execution_count": 10,
     "metadata": {},
     "output_type": "execute_result"
    },
    {
     "data": {
      "image/png": "[encoded data removed]",
      "text/plain": [
       "<matplotlib.figure.Figure at 0x8812b00>"
      ]
     },
     "metadata": {},
     "output_type": "display_data"
    }
   ],
   "source": [
    "def ht_simulation(n = 40):\n",
    "    tosses = coin_toss(n)\n",
    "    pennies = 0\n",
    "    total_pennies = []\n",
    "    for toss in tosses:\n",
    "        if toss == 'H':\n",
    "            pennies += 1\n",
    "        else:\n",
    "            pennies -= 1\n",
    "        total_pennies.append(pennies)\n",
    "    return total_pennies\n",
    "\n",
    "result = ht_simulation()\n",
    "print(result)\n",
    "plt.plot(result)"
   ]
  },
  {
   "cell_type": "code",
   "execution_count": 11,
   "metadata": {},
   "outputs": [
    {
     "name": "stdout",
     "output_type": "stream",
     "text": [
      "[False, False, False, False, False, True, True, False, False, True, True, False, True, True, True, True, True, False, False, True, True, False, True, True, True, False, True, True, True, True, True, True, True, True, True, False, True, True, True, True, True, False, True, False, False, True, True, True, True, True, False, False, False, True, True, True, False, True, True, False, False, True, False, True, True, True, True, False, True, False, False, True, True, True, True, True, True, True, False, True, True, True, False, False, True, True, True, False, False, True, False, True, True, True, False, False, True, True, True, False]\n"
     ]
    }
   ],
   "source": [
    "def multi_ht_simulation(n = 100):\n",
    "    return [ht_simulation()[-1] >= 0 for _ in range(n)]\n",
    "\n",
    "print(multi_ht_simulation())"
   ]
  },
  {
   "cell_type": "markdown",
   "metadata": {},
   "source": [
    "### Chapter 1 Exercises\n",
    "\n",
    "p. 12\n",
    "\n",
    "> 1 - Modify the program CoinTosses to toss a coin n times and print out after\n",
    "every 100 tosses the proportion of heads minus 1/2. Do these numbers appear\n",
    "to approach 0 as n increases? Modify the program again to print out, every\n",
    "100 times, both of the following quantities: the proportion of heads minus 1/2,\n",
    "and the number of heads minus half the number of tosses. Do these numbers\n",
    "appear to approach 0 as n increases?"
   ]
  },
  {
   "cell_type": "code",
   "execution_count": 12,
   "metadata": {},
   "outputs": [
    {
     "name": "stdout",
     "output_type": "stream",
     "text": [
      "50 rolls:\n",
      "   Proportion of heads - 1/2:\t0.12\n",
      "   Offset of heads count:\t6.0\n",
      "100 rolls:\n",
      "   Proportion of heads - 1/2:\t0.07\n",
      "   Offset of heads count:\t7.0\n",
      "150 rolls:\n",
      "   Proportion of heads - 1/2:\t0.02\n",
      "   Offset of heads count:\t3.0\n",
      "200 rolls:\n",
      "   Proportion of heads - 1/2:\t0.025\n",
      "   Offset of heads count:\t5.0\n",
      "250 rolls:\n",
      "   Proportion of heads - 1/2:\t0.028\n",
      "   Offset of heads count:\t7.0\n",
      "300 rolls:\n",
      "   Proportion of heads - 1/2:\t0.01667\n",
      "   Offset of heads count:\t5.0\n",
      "350 rolls:\n",
      "   Proportion of heads - 1/2:\t0.00857\n",
      "   Offset of heads count:\t3.0\n",
      "400 rolls:\n",
      "   Proportion of heads - 1/2:\t0.01\n",
      "   Offset of heads count:\t4.0\n",
      "450 rolls:\n",
      "   Proportion of heads - 1/2:\t0.00222\n",
      "   Offset of heads count:\t1.0\n",
      "500 rolls:\n",
      "   Proportion of heads - 1/2:\t0.004\n",
      "   Offset of heads count:\t2.0\n",
      "--------------------\n"
     ]
    }
   ],
   "source": [
    "def anounce_coin_stats(runs, n = 100):\n",
    "    \"\"\"Run a number of coin tosses\"\"\"\n",
    "    results = collections.Counter()\n",
    "    for _ in range(runs):\n",
    "        results.update(coin_toss(n))\n",
    "        total_rolls = results['H'] + results['T']\n",
    "        heads_prop = results['H'] / total_rolls - 0.5\n",
    "        heads_count = results['H'] - (total_rolls / 2)\n",
    "        print(f'{total_rolls} rolls:\\n',\n",
    "              f'  Proportion of heads - 1/2:\\t{round(heads_prop, 5)}\\n',\n",
    "              f'  Offset of heads count:\\t{heads_count}'\n",
    "             )\n",
    "    \n",
    "anounce_coin_stats(10, 50)\n",
    "print('-'*20)"
   ]
  },
  {
   "cell_type": "markdown",
   "metadata": {},
   "source": [
    "I opted for a shorter gap between reports to better illustrate the effect, but this does seem to illustrate the frequency concept fairly well. Occasionally there'll be an imballance, but there's a definite trend towards an equal count of both outcomes."
   ]
  },
  {
   "cell_type": "markdown",
   "metadata": {},
   "source": [
    "> 2 - Modify the program CoinTosses so that it tosses a coin *n* times and records whether or not the proportion of heads is within .1 of .5 (i.e., between .4 and .6). Have your program repeat this experiment 100 times. About how large must *n* be so that approximately 95 out of 100 times the proportion of heads is between .4 and .6?"
   ]
  }
 ],
 "metadata": {
  "kernelspec": {
   "display_name": "Python 3",
   "language": "python",
   "name": "python3"
  },
  "language_info": {
   "codemirror_mode": {
    "name": "ipython",
    "version": 3
   },
   "file_extension": ".py",
   "mimetype": "text/x-python",
   "name": "python",
   "nbconvert_exporter": "python",
   "pygments_lexer": "ipython3",
   "version": "3.6.4"
  }
 },
 "nbformat": 4,
 "nbformat_minor": 2
}
