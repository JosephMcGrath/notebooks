{
 "cells": [
  {
   "cell_type": "markdown",
   "metadata": {},
   "source": [
    "# Data Science From Scratch\n",
    "\n",
    "Joel Grus  \n",
    "1st Edition, Second Release, O'Reilly  \n",
    "ISBN: 978-1-491-90142-7\n",
    "Notes by Joe McGrath  \n",
    "[Github page with code for the book](https://github.com/joelgrus/data-science-from-scratch)  \n"
   ]
  },
  {
   "cell_type": "markdown",
   "metadata": {},
   "source": [
    "## Contents\n",
    "\n",
    "* [Preface](#Preface)\n",
    "* [Chapter 1 - Introduction](#Chapter-1---Introduction)\n",
    "    * [Simple Social Network](#Simple-Social-Network)\n",
    "    * [Basic Recommender](#Basic-Recommender)"
   ]
  },
  {
   "cell_type": "markdown",
   "metadata": {},
   "source": [
    "## Preface\n",
    "[Back to contents](#Contents)\n",
    "\n",
    "Data science is [generally held to be](http://drewconway.com/zia/2013/3/26/the-data-science-venn-diagram) the intersection of hacking skills, maths & statistics and substantiative experience. As you can't really put experience in a book, that's not covered so much here. Hacking skills are also a bit nebulous and very personal - so that'll ccome with time too.\n",
    "\n",
    "*Doing* is the best way to learn most of this, so the book is more of a grounding / framework to build off. The book's designed for smaller-scale analyses, but references some larger ideas."
   ]
  },
  {
   "cell_type": "markdown",
   "metadata": {},
   "source": [
    "## Chapter 1 - Introduction\n",
    "[Back to contents](#Contents)\n",
    "\n",
    "There's so much data around these days that the problem of what to *do* with data is as - if not more - difficult than acquiring the data. Data scientists run the gamut from statisticians to computer scientists with a lot of variance in capabilities and skills.\n",
    "\n",
    "> A data scientist is someone who extracts insights from messy data.\n",
    "\n",
    "With data science, even the most innocuous information can be correlated and processed into the information we want.\n",
    "\n",
    "### Simple Social Network\n",
    "\n",
    "As an example, data from a fictional social network:\n"
   ]
  },
  {
   "cell_type": "code",
   "execution_count": 10,
   "metadata": {},
   "outputs": [],
   "source": [
    "users = [\n",
    "    {'id' : 0, 'name' : 'Hero'},\n",
    "    {'id' : 1, 'name' : 'Dunn'},\n",
    "    {'id' : 2, 'name' : 'Sue'},\n",
    "    {'id' : 3, 'name' : 'Chi'},\n",
    "    {'id' : 4, 'name' : 'Thor'},\n",
    "    {'id' : 5, 'name' : 'Clive'},\n",
    "    {'id' : 6, 'name' : 'Hicks'},\n",
    "    {'id' : 7, 'name' : 'Devin'},\n",
    "    {'id' : 8, 'name' : 'Kate'},\n",
    "    {'id' : 9, 'name' : 'Klein'},\n",
    "]\n",
    "\n",
    "friendships = [(0, 1), (0, 2), (1, 2), (1, 3), (2, 3), (3, 4),\n",
    "               (4, 5), (5, 6), (5, 7), (6, 8), (7, 8), (8, 9),\n",
    "              ]\n"
   ]
  },
  {
   "cell_type": "markdown",
   "metadata": {},
   "source": [
    "From this, we can build up a network of friendships into the original dictionary:"
   ]
  },
  {
   "cell_type": "code",
   "execution_count": 11,
   "metadata": {},
   "outputs": [],
   "source": [
    "for user in users:\n",
    "    user['friends'] = []\n",
    "\n",
    "for i, j in friendships:\n",
    "    # Note this is recursive as we're embedding a *reference* to the object.\n",
    "    users[i]['friends'].append(users[j])\n",
    "    users[j]['friends'].append(users[i])\n"
   ]
  },
  {
   "cell_type": "markdown",
   "metadata": {},
   "source": [
    "Then it's fairly simple to calculate the average number of connections:"
   ]
  },
  {
   "cell_type": "code",
   "execution_count": 12,
   "metadata": {},
   "outputs": [
    {
     "name": "stdout",
     "output_type": "stream",
     "text": [
      "2.4\n"
     ]
    }
   ],
   "source": [
    "def number_of_friends(user):\n",
    "    \"how many friends does _user_ have?\"\n",
    "    return len(user['friends'])\n",
    "\n",
    "total_connections = sum(number_of_friends(user) for user in users) # 24\n",
    "\n",
    "avg_connections = total_connections / len(users)\n",
    "print(avg_connections)"
   ]
  },
  {
   "cell_type": "markdown",
   "metadata": {},
   "source": [
    "Then if we want to sort them by count of friends:"
   ]
  },
  {
   "cell_type": "code",
   "execution_count": 24,
   "metadata": {},
   "outputs": [
    {
     "name": "stdout",
     "output_type": "stream",
     "text": [
      "[(0, 2), (1, 3), (2, 3), (3, 3), (4, 2), (5, 3), (6, 2), (7, 2), (8, 3), (9, 1)]\n",
      "[(1, 3), (2, 3), (3, 3), (5, 3), (8, 3), (0, 2), (4, 2), (6, 2), (7, 2), (9, 1)]\n"
     ]
    }
   ],
   "source": [
    "num_friends_by_id = [(user['id'], number_of_friends(user)) for user in users]\n",
    "print(num_friends_by_id)\n",
    "\n",
    "print(sorted(num_friends_by_id,\n",
    "             key = lambda user_in: user_in[1], # Lambda function to suck out the relevant value\n",
    "             reverse = True\n",
    "            )\n",
    "     )"
   ]
  },
  {
   "cell_type": "markdown",
   "metadata": {},
   "source": [
    "This sorted list of friends is a network metric - the *degree of centrality*. It's simple to calculate, but doesn't necessarily mean much about the *structure* of the network. In this example Thor (id 4) is a bridge between two well-interconnected networks of friends, but has a relitively low friend-count."
   ]
  },
  {
   "cell_type": "markdown",
   "metadata": {},
   "source": [
    "### Basic Recommender\n",
    "\n",
    "Taking a friends-of-friends approach, we can make a 'people you might know' feature."
   ]
  },
  {
   "cell_type": "code",
   "execution_count": 26,
   "metadata": {},
   "outputs": [
    {
     "name": "stdout",
     "output_type": "stream",
     "text": [
      "[0, 2, 3, 0, 1, 3]\n"
     ]
    }
   ],
   "source": [
    "def friends_of_friend_ids_bad(user):\n",
    "    # \"foaf\" is short for \"friend of a friend\"\n",
    "    return [foaf[\"id\"]\n",
    "            for friend in user[\"friends\"] # Cycle through the friends of friends\n",
    "            for foaf in friend[\"friends\"]\n",
    "           ]\n",
    "\n",
    "print(friends_of_friend_ids_bad(users[0]))"
   ]
  },
  {
   "cell_type": "markdown",
   "metadata": {},
   "source": [
    "So the problems with this method are:\n",
    "\n",
    "* It returns the target (as they're friends with their friends).\n",
    "* Returns current friends.\n",
    "* Returns duplicates (shared friends)\n",
    "\n",
    "So we create a few functions to clean up the data:"
   ]
  },
  {
   "cell_type": "code",
   "execution_count": null,
   "metadata": {},
   "outputs": [],
   "source": []
  }
 ],
 "metadata": {
  "kernelspec": {
   "display_name": "Python 3",
   "language": "python",
   "name": "python3"
  },
  "language_info": {
   "codemirror_mode": {
    "name": "ipython",
    "version": 3
   },
   "file_extension": ".py",
   "mimetype": "text/x-python",
   "name": "python",
   "nbconvert_exporter": "python",
   "pygments_lexer": "ipython3",
   "version": "3.6.4"
  }
 },
 "nbformat": 4,
 "nbformat_minor": 2
}
