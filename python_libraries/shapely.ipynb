{
 "cells": [
  {
   "cell_type": "markdown",
   "metadata": {},
   "source": [
    "# Shapely\n",
    "\n",
    "[Shapely user manual](http://toblerity.org/shapely/manual.html)\n",
    "\n",
    "Shapely's the main library in Python for handling spatial geometries. It's used in [GeoPandas](http://geopandas.org/) to handle the geometries in GeoSeries/GeoDataFrames. The scope of the library is fairly limited, leaving data import and projections to other libraries ([fiona](http://toblerity.org/fiona/) and [pyproj](https://pypi.org/project/pyproj/) respectively)."
   ]
  },
  {
   "cell_type": "code",
   "execution_count": 1,
   "metadata": {},
   "outputs": [],
   "source": [
    "%matplotlib inline\n",
    "\n",
    "import shapely\n",
    "import shapely.geometry as spg\n",
    "import shapely.validation as spv\n",
    "\n",
    "import shapely.wkt\n",
    "import shapely.wkb"
   ]
  },
  {
   "cell_type": "markdown",
   "metadata": {},
   "source": [
    "\n",
    "## Theoretical Backbone\n",
    "\n",
    "The basic principle behind Shapely seems to be to pull an already available set of operators into Python, rather than having to go through PostGIS.\n",
    "\n",
    "### Libraries Used\n",
    "\n",
    "Shapely's used as the spatial data structure for Geopandas. It uses the [GEOS](http://trac.osgeo.org/geos/) library behind the scenes, same as PostGIS. As a result a lot of the names are shared - particularly the [DE-9IM](https://en.wikipedia.org/wiki/DE-9IM) language for spatial relations.\n",
    "\n",
    "### Data Model\n",
    "\n",
    "As Shapely uses GEOS as it's base, the geometry types are the fairly familiar ones:\n",
    "\n",
    "* **Point** (````Point```` Class) - As the name suggests, just a point. There's nothing too unexpected here.\n",
    "* **Curve** (````LineString```` / ````LinearRing ```` classes) - The name of lines in this structure. No smooth curves / circles here.\n",
    "* **Surface** (````Polygon```` class) - The name of polygons in this structure.\n",
    "* Collection objects follow the convention of appending 'multi' onto the front (````MultiPoint````, ````MultiLineString```` and ````MultiPolygon````). There is a generic mixed type ````GeometryCollection```` that can have any or no geometry types inside (though it's generally not a great idea to work with them).\n",
    "\n",
    "The user manual defines them based on their interior, boundary and exterior:\n",
    "\n",
    " Geometry | Topological Dimension | Interior                        | Boundary    | Exterior          \n",
    "----------|-----------------------|---------------------------------|-------------|-------------------\n",
    " Point    | 0                     | Exactly one point.              | None.       | All other points. \n",
    " Curve    | 1                     | Any points along it's length.   | End points. | All other points.\n",
    " Surface  | 2                     | Any points within the boundary. | A curve.    | All other points.\n",
    "\n",
    "### Coordinate Systems\n",
    "\n",
    "Shapely **does not do coordinate system transformations** so using data with two crs will produce unexpected results. The \n",
    "\n",
    "The user manual does reference [pyproj](https://pypi.org/project/pyproj/) as a tool to help (is a port of PROJ4)."
   ]
  },
  {
   "cell_type": "markdown",
   "metadata": {},
   "source": [
    "## Geometric Objects"
   ]
  },
  {
   "cell_type": "markdown",
   "metadata": {},
   "source": [
    "The geometric objects defined in the standard Python way, with coordinates being passed in as tuples (with optional z values). Once defined, the coordinates are immutable with all numbers being converted to floats.\n",
    "\n",
    "The simplicity / validity of shapes is not checked during creation, but can be checked with ````is_valid```` property on the result.\n",
    "\n",
    "At present, the z-axis seems to be ignored in Shapely."
   ]
  },
  {
   "cell_type": "markdown",
   "metadata": {},
   "source": [
    "### Generic Object Methods & Attributes\n",
    "\n",
    "Attribute / Method                    | Return Type | PostGIS Equivalent                                                   | Description   \n",
    "--------------------------------------|-------------|----------------------------------------------------------------------|-------------  \n",
    "````object.area````                   | float       | [ST_Area](http://postgis.org/docs/ST_Area.html)                      | The area of the object.\n",
    "````object.bounds````                 | tuple float | [ST_Extent](http://postgis.org/docs/ST_Extent.html)                  | Tuple of ```` (minx, miny, maxx, maxy)````.\n",
    "````object.length````                 | float       | [ST_Length](http://postgis.org/docs/ST_Length.html)                  | The length of the object.\n",
    "````object.geom_type````              | string      | [ST_GeometryType](http://postgis.org/docs/ST_GeometryType.html)      | The name of the geometry type.\n",
    "````object.distance(other)````        | float       | [ST_Distance](http://postgis.org/docs/ST_Distance.html)              | Distance to another object.\n",
    "````object.representative_point()```` | Point       | [ST_PointOnSurface](http://postgis.org/docs/ST_PointOnSurface.html)  | A point guaranteed to be within the object."
   ]
  },
  {
   "cell_type": "markdown",
   "metadata": {},
   "source": [
    "### Geometry Creating Classes / Functions\n",
    "\n",
    " Called From             | Attribute / Method                           | Return Type     | Description   \n",
    "-------------------------|----------------------------------------------|-----------------|------------------------------------------  \n",
    "````shapely.geometry```` | ````Point(coordinates)````                   | Point           | Makes a Point with the given coordinates. \n",
    "````shapely.geometry```` | ````LineString(coordinates)````              | LineString      | Makes a LineString with the given coordinates. \n",
    "````shapely.geometry```` | ````LinearRing(coordinates)````              | LinearRing      | Makes a LinearRing with the given coordinates. \n",
    "````shapely.geometry```` | ````Polygon(exterior[, interiors=None])````  | Polygon         | Makes a Polygon with the given coordinates. \n",
    "````shapely.geometry```` | ````box(minx, miny, maxx, maxy, ccw=True)````| Polygon         | Makes a Polygon with the given extent. \n",
    "````shapely.geometry```` | ````MultiPoint(points)````                   | MultiPoint      | \n",
    "````shapely.geometry```` | ````MultiLineString(lines)````               | MultiLineString | \n",
    "````shapely.geometry```` | ````MultiPolygon(polygons)````               | MultiPolygon    | \n"
   ]
  },
  {
   "cell_type": "markdown",
   "metadata": {},
   "source": [
    "### Points\n",
    "\n",
    "Points are generated from the ````Point```` class, which only needs to take an X and Y coordinate."
   ]
  },
  {
   "cell_type": "code",
   "execution_count": 2,
   "metadata": {},
   "outputs": [
    {
     "name": "stdout",
     "output_type": "stream",
     "text": [
      "POINT (0 1)\n"
     ]
    },
    {
     "data": {
      "image/svg+xml": [
       "<svg xmlns=\"http://www.w3.org/2000/svg\" xmlns:xlink=\"http://www.w3.org/1999/xlink\" width=\"100.0\" height=\"100.0\" viewBox=\"-1.0 0.0 2.0 2.0\" preserveAspectRatio=\"xMinYMin meet\"><g transform=\"matrix(1,0,0,-1,0,2.0)\"><circle cx=\"0.0\" cy=\"1.0\" r=\"0.06\" stroke=\"#555555\" stroke-width=\"0.02\" fill=\"#66cc99\" opacity=\"0.6\" /></g></svg>"
      ],
      "text/plain": [
       "<shapely.geometry.point.Point at 0x16cf6170198>"
      ]
     },
     "execution_count": 2,
     "metadata": {},
     "output_type": "execute_result"
    }
   ],
   "source": [
    "the_point = spg.Point(0.0, 1.0)\n",
    "print(the_point)\n",
    "the_point"
   ]
  },
  {
   "cell_type": "markdown",
   "metadata": {},
   "source": [
    "Points have 0 length and area, and a bounding box with 0 area:"
   ]
  },
  {
   "cell_type": "code",
   "execution_count": 3,
   "metadata": {},
   "outputs": [
    {
     "name": "stdout",
     "output_type": "stream",
     "text": [
      "0.0\n",
      "0.0\n",
      "(0.0, 1.0, 0.0, 1.0)\n"
     ]
    }
   ],
   "source": [
    "print(the_point.area)\n",
    "print(the_point.length)\n",
    "print(the_point.bounds)"
   ]
  },
  {
   "cell_type": "markdown",
   "metadata": {},
   "source": [
    "Passing a point to the ````Point```` constructor will copy that point:"
   ]
  },
  {
   "cell_type": "code",
   "execution_count": 4,
   "metadata": {},
   "outputs": [
    {
     "name": "stdout",
     "output_type": "stream",
     "text": [
      "POINT (0 1)\n"
     ]
    }
   ],
   "source": [
    "print(spg.Point(the_point))"
   ]
  },
  {
   "cell_type": "markdown",
   "metadata": {},
   "source": [
    "### LineStrings\n",
    "\n",
    "Linestrings are the standard line geometry. They can have repeated points, but it's not advised (unnecessary performance hits etc).\n",
    "\n",
    "Linestrings can be constructed with the ````LineString```` constructor (though cannot be created with a series of ````Point```` objects):"
   ]
  },
  {
   "cell_type": "code",
   "execution_count": 5,
   "metadata": {},
   "outputs": [
    {
     "name": "stdout",
     "output_type": "stream",
     "text": [
      "LINESTRING (0 0, 1 1)\n"
     ]
    },
    {
     "data": {
      "image/svg+xml": [
       "<svg xmlns=\"http://www.w3.org/2000/svg\" xmlns:xlink=\"http://www.w3.org/1999/xlink\" width=\"100.0\" height=\"100.0\" viewBox=\"-0.04 -0.04 1.08 1.08\" preserveAspectRatio=\"xMinYMin meet\"><g transform=\"matrix(1,0,0,-1,0,1.0)\"><polyline fill=\"none\" stroke=\"#66cc99\" stroke-width=\"0.0216\" points=\"0.0,0.0 1.0,1.0\" opacity=\"0.8\" /></g></svg>"
      ],
      "text/plain": [
       "<shapely.geometry.linestring.LineString at 0x16cf7221080>"
      ]
     },
     "execution_count": 5,
     "metadata": {},
     "output_type": "execute_result"
    }
   ],
   "source": [
    "the_line = spg.LineString([(0, 0), (1, 1)])\n",
    "print(the_line)\n",
    "the_line"
   ]
  },
  {
   "cell_type": "markdown",
   "metadata": {},
   "source": [
    "Like points, lines have 0 area, but do have length:"
   ]
  },
  {
   "cell_type": "code",
   "execution_count": 6,
   "metadata": {},
   "outputs": [
    {
     "name": "stdout",
     "output_type": "stream",
     "text": [
      "0.0\n",
      "1.4142135623730951\n",
      "(0.0, 0.0, 1.0, 1.0)\n"
     ]
    }
   ],
   "source": [
    "print(the_line.area)\n",
    "print(the_line.length)\n",
    "print(the_line.bounds)"
   ]
  },
  {
   "cell_type": "markdown",
   "metadata": {},
   "source": [
    "They can also be copied by passing the line in to another object:"
   ]
  },
  {
   "cell_type": "code",
   "execution_count": 7,
   "metadata": {},
   "outputs": [
    {
     "name": "stdout",
     "output_type": "stream",
     "text": [
      "LINESTRING (0 0, 1 1)\n"
     ]
    }
   ],
   "source": [
    "print(spg.LineString(the_line))"
   ]
  },
  {
   "cell_type": "markdown",
   "metadata": {},
   "source": [
    "### LinearRings\n",
    "\n",
    "LinearRings are LineStrings, but must close themselves. If the sewries of coordinates provided doesn't close on its own then they will copy the first point to the end.\n",
    "\n",
    "LinearRings are invalid if it crosses itself or touches itself at a single point (though this won't cause an error, it throws an error with processing algorithms).\n",
    "\n",
    "Otherwise LinearRings are identical to LineStrings."
   ]
  },
  {
   "cell_type": "code",
   "execution_count": 8,
   "metadata": {},
   "outputs": [
    {
     "data": {
      "image/svg+xml": [
       "<svg xmlns=\"http://www.w3.org/2000/svg\" xmlns:xlink=\"http://www.w3.org/1999/xlink\" width=\"100.0\" height=\"100.0\" viewBox=\"-0.04 -0.04 1.08 1.08\" preserveAspectRatio=\"xMinYMin meet\"><g transform=\"matrix(1,0,0,-1,0,1.0)\"><polyline fill=\"none\" stroke=\"#66cc99\" stroke-width=\"0.0216\" points=\"0.0,0.0 1.0,0.0 1.0,1.0 0.0,1.0 0.0,0.0\" opacity=\"0.8\" /></g></svg>"
      ],
      "text/plain": [
       "<shapely.geometry.polygon.LinearRing at 0x16cf7221320>"
      ]
     },
     "execution_count": 8,
     "metadata": {},
     "output_type": "execute_result"
    }
   ],
   "source": [
    "the_ring = spg.LinearRing([(0, 0), (1, 0), (1, 1), (0, 1)])\n",
    "the_ring"
   ]
  },
  {
   "cell_type": "markdown",
   "metadata": {},
   "source": [
    "### Polygon\n",
    "\n",
    "Polygons are constructed in a similar way to LinearRings, but can also take a second set of sequences that can be turned into rings. They can also be constructed from ````LineStrings```` or ````LinearRings```` directly.\n",
    "\n",
    "As with other objects, invalid polygons can be constructed, but not operated on. A valid polygon may not have rings that cross, but rings can touch at a single point only.\n",
    "\n",
    "As in PostGIS, the winding direction (called orientation here) is counterclockwise for the exterior ring and clockwise on the interior ones. This can be forced for the exterior ring with ````polygon.orient````."
   ]
  },
  {
   "cell_type": "code",
   "execution_count": 9,
   "metadata": {},
   "outputs": [
    {
     "data": {
      "image/svg+xml": [
       "<svg xmlns=\"http://www.w3.org/2000/svg\" xmlns:xlink=\"http://www.w3.org/1999/xlink\" width=\"100.0\" height=\"100.0\" viewBox=\"-1.12 -1.12 3.24 3.24\" preserveAspectRatio=\"xMinYMin meet\"><g transform=\"matrix(1,0,0,-1,0,1.0)\"><path fill-rule=\"evenodd\" fill=\"#66cc99\" stroke=\"#555555\" stroke-width=\"0.06480000000000001\" opacity=\"0.6\" d=\"M -1.0,-1.0 L 2.0,-1.0 L 2.0,2.0 L -1.0,2.0 L -1.0,-1.0 z\" /></g></svg>"
      ],
      "text/plain": [
       "<shapely.geometry.polygon.Polygon at 0x16cf7221550>"
      ]
     },
     "execution_count": 9,
     "metadata": {},
     "output_type": "execute_result"
    }
   ],
   "source": [
    "the_polygon = spg.Polygon([(-1, -1), (2, -1), (2, 2), (-1, 2)])\n",
    "the_polygon"
   ]
  },
  {
   "cell_type": "markdown",
   "metadata": {},
   "source": [
    "Polygons have both length and area (assuming it's valid):"
   ]
  },
  {
   "cell_type": "code",
   "execution_count": 10,
   "metadata": {},
   "outputs": [
    {
     "name": "stdout",
     "output_type": "stream",
     "text": [
      "9.0\n",
      "12.0\n",
      "(-1.0, -1.0, 2.0, 2.0)\n"
     ]
    }
   ],
   "source": [
    "print(the_polygon.area)\n",
    "print(the_polygon.length)\n",
    "print(the_polygon.bounds)"
   ]
  },
  {
   "cell_type": "markdown",
   "metadata": {},
   "source": [
    "And an example of more complex definition:"
   ]
  },
  {
   "cell_type": "code",
   "execution_count": 11,
   "metadata": {},
   "outputs": [
    {
     "data": {
      "image/svg+xml": [
       "<svg xmlns=\"http://www.w3.org/2000/svg\" xmlns:xlink=\"http://www.w3.org/1999/xlink\" width=\"100.0\" height=\"100.0\" viewBox=\"-3.2800000000000002 -3.2800000000000002 7.5600000000000005 7.5600000000000005\" preserveAspectRatio=\"xMinYMin meet\"><g transform=\"matrix(1,0,0,-1,0,1.0)\"><path fill-rule=\"evenodd\" fill=\"#66cc99\" stroke=\"#555555\" stroke-width=\"0.1512\" opacity=\"0.6\" d=\"M -3.0,-1.0 L -3.0,2.0 L -2.990369453344394,2.196034280659121 L -2.961570560806461,2.3901806440322564 L -2.9138806714644176,2.580569354508925 L -2.8477590650225735,2.7653668647301797 L -2.76384252869671,2.942793473651996 L -2.6629392246050907,3.1111404660392044 L -2.5460209067254738,3.268786568327291 L -2.414213562373095,3.414213562373095 L -2.2687865683272905,3.546020906725474 L -2.111140466039204,3.6629392246050907 L -1.9427934736519954,3.76384252869671 L -1.7653668647301795,3.8477590650225735 L -1.5805693545089243,3.913880671464418 L -1.3901806440322564,3.961570560806461 L -1.1960342806591213,3.990369453344394 L -1.0,4.0 L 2.0,4.0 L 2.196034280659121,3.990369453344394 L 2.3901806440322564,3.961570560806461 L 2.5805693545089246,3.913880671464418 L 2.7653668647301797,3.8477590650225735 L 2.942793473651996,3.76384252869671 L 3.1111404660392044,3.6629392246050907 L 3.268786568327291,3.5460209067254738 L 3.414213562373095,3.414213562373095 L 3.5460209067254738,3.268786568327291 L 3.6629392246050907,3.1111404660392044 L 3.76384252869671,2.9427934736519954 L 3.8477590650225735,2.7653668647301797 L 3.9138806714644176,2.5805693545089246 L 3.961570560806461,2.3901806440322564 L 3.990369453344394,2.1960342806591213 L 4.0,2.0 L 4.0,-1.0 L 3.990369453344394,-1.1960342806591204 L 3.961570560806461,-1.3901806440322562 L 3.913880671464418,-1.5805693545089246 L 3.8477590650225735,-1.7653668647301797 L 3.76384252869671,-1.9427934736519954 L 3.6629392246050907,-2.1111404660392044 L 3.5460209067254738,-2.268786568327291 L 3.414213562373095,-2.414213562373095 L 3.268786568327291,-2.5460209067254738 L 3.1111404660392044,-2.6629392246050907 L 2.942793473651996,-2.76384252869671 L 2.7653668647301797,-2.8477590650225735 L 2.5805693545089246,-2.913880671464418 L 2.390180644032257,-2.961570560806461 L 2.1960342806591218,-2.9903694533443934 L 2.0,-3.0 L -1.0,-3.0 L -1.1960342806591195,-2.990369453344394 L -1.3901806440322542,-2.9615705608064613 L -1.5805693545089219,-2.9138806714644185 L -1.7653668647301761,-2.847759065022575 L -1.9427934736519914,-2.763842528696712 L -2.1111404660392,-2.6629392246050934 L -2.2687865683272865,-2.5460209067254773 L -2.4142135623730905,-2.4142135623730994 L -2.5460209067254693,-2.2687865683272967 L -2.6629392246050863,-2.1111404660392106 L -2.7638425286967063,-1.9427934736520027 L -2.8477590650225695,-1.7653668647301888 L -2.9138806714644145,-1.580569354508935 L -2.9615705608064586,-1.3901806440322677 L -2.9903694533443925,-1.196034280659133 L -3.0,-1.0 z M -1.0,-1.0 L 2.0,-1.0 L 2.0,2.0 L -1.0,2.0 L -1.0,-1.0 z\" /></g></svg>"
      ],
      "text/plain": [
       "<shapely.geometry.polygon.Polygon at 0x16cf72211d0>"
      ]
     },
     "execution_count": 11,
     "metadata": {},
     "output_type": "execute_result"
    }
   ],
   "source": [
    "#the_polygon_rings = spg.Polygon(the_polygon.buffer(2), the_polygon)\n",
    "the_polygon_rings = spg.Polygon(the_polygon.buffer(2).exterior,\n",
    "                                [the_polygon.exterior]\n",
    "                               )\n",
    "the_polygon_rings"
   ]
  },
  {
   "cell_type": "markdown",
   "metadata": {},
   "source": [
    "A more convenient way to generate a polygon is with ```box```\n",
    "\n",
    "Attribute / Method            | Return Type | PostGIS Equivalent | Description   \n",
    "------------------------------|-------------|--------------------|-------------  \n",
    "````shapely.geometry.box(minx, miny, maxx, maxy, ccw=True)````                   | Polygon     | [ST_Envelope](https://postgis.net/docs/ST_Envelope.html)            | A square polygon."
   ]
  },
  {
   "cell_type": "markdown",
   "metadata": {},
   "source": [
    "### Accessing Coordinates\n",
    "\n",
    "Coordinates can be accessed by the ````coords````, ````x````, ````y```` and ````z```` properties or by slicing the output of ````coords````:"
   ]
  },
  {
   "cell_type": "code",
   "execution_count": 12,
   "metadata": {
    "scrolled": true
   },
   "outputs": [
    {
     "name": "stdout",
     "output_type": "stream",
     "text": [
      "<shapely.coords.CoordinateSequence object at 0x0000016CF7221828>\n",
      "[(0.0, 1.0)]\n",
      "0.0\n",
      "1.0\n",
      "[(0.0, 1.0)]\n"
     ]
    }
   ],
   "source": [
    "print(the_point.coords)\n",
    "print(list(the_point.coords))\n",
    "print(the_point.x)\n",
    "print(the_point.y)\n",
    "print(the_point.coords[:])"
   ]
  },
  {
   "cell_type": "markdown",
   "metadata": {},
   "source": [
    "Though the slicing is more useful for lines than points:"
   ]
  },
  {
   "cell_type": "code",
   "execution_count": 13,
   "metadata": {},
   "outputs": [
    {
     "name": "stdout",
     "output_type": "stream",
     "text": [
      "[(0.0, 0.0), (1.0, 1.0)]\n",
      "[(1.0, 1.0)]\n"
     ]
    }
   ],
   "source": [
    "print(the_line.coords[:])\n",
    "print(the_line.coords[1:])"
   ]
  },
  {
   "cell_type": "markdown",
   "metadata": {},
   "source": [
    "For polygons, you have to go through the extra layer of ````exterior```` or ````interiors```` with ````interiors```` being a list of rings, so needs subsetting first."
   ]
  },
  {
   "cell_type": "code",
   "execution_count": 14,
   "metadata": {},
   "outputs": [
    {
     "name": "stdout",
     "output_type": "stream",
     "text": [
      "[(-1.0, -1.0), (2.0, -1.0), (2.0, 2.0), (-1.0, 2.0), (-1.0, -1.0)]\n",
      "[(-1.0, -1.0), (2.0, -1.0), (2.0, 2.0), (-1.0, 2.0), (-1.0, -1.0)]\n"
     ]
    }
   ],
   "source": [
    "print(list(the_polygon.exterior.coords))\n",
    "print(list(the_polygon_rings.interiors[0].coords))"
   ]
  },
  {
   "cell_type": "markdown",
   "metadata": {},
   "source": [
    "## Geometry Properties (Unary Predicates)\n",
    "\n",
    "These are attributes that can be called on any geometry object, returning ````True```` or ````False```` only. They seem to be precalculated attributes rather than methods calculated as needed.\n",
    "\n",
    "Name            | Manual Link                                                       | Used on                            | Description                                                                                   \n",
    "-------------|-------------------------------------------------------------------|------------------------------------|-----------------------------------------------------------------------------------------------\n",
    " .has_z      | [Link](http://toblerity.org/shapely/manual.html#object.has_z)     | All                                | If the feature has z values (is 3D).                                                          \n",
    " .is_ccw     | [Link](http://toblerity.org/shapely/manual.html#object.is_ccw)    | All                                | If the geometry is wound counter-clockwise (will give an internal area that's positive).                                                   \n",
    " .is_empty   | [Link](http://toblerity.org/shapely/manual.html#object.is_empty)  | All                                | If the features *interior* and *boundary* coincide with an empty set.                         \n",
    " .is_ring    | [Link](http://toblerity.org/shapely/manual.html#object.is_ring)   | LineString, LinearRing             | If the feature is closed.                                                                     \n",
    " .is_simple  | [Link](http://toblerity.org/shapely/manual.html#object.is_simple) | LineString, LinearRing             | If the feature does not cross itself. Operations on non-simple linestrings aren't suppoprted. \n",
    " .is_valid   | [Link](http://toblerity.org/shapely/manual.html#object.is_valid)  | LinearRing, Polygon , MultiPolygon | If the feature is valid.                                                                      \n",
    "\n",
    "Rather than requiring a valid geometry at the time of construction (which would also hamstring data imports from most sources I've seen), the valid geometry is required when it's operated on. \n"
   ]
  },
  {
   "cell_type": "markdown",
   "metadata": {},
   "source": [
    "## Geometric Relationships (Binary Predicates)\n",
    "\n",
    "These all take an ````other```` argument that's another geometry, with some having additional arguments. The plain-language descriptions are the [standard ones](https://en.wikipedia.org/wiki/DE-9IM#Spatial_predicates), but I've included the full desciptions for clarity.\n",
    "\n",
    " Name           | Additional arguments | Manual Link                                                           | Description                                                                                                                                                                           \n",
    "----------------|----------------------|-----------------------------------------------------------------------|---------------------------------------------------------------------------------------------------------------------------------------------------------------------------------------\n",
    " .almost_equals | decimal=6            | [Link](http://toblerity.org/shapely/manual.html#object.almost_equals) | If the object is approximately equal to the ````other```` at all points.                                                                                                              \n",
    " .contains      |                      | [Link](http://toblerity.org/shapely/manual.html#object.contains)      | If the object’s interior contains the boundary and interior of the other object and their boundaries do not touch at all. This is the inverse of ````within````.                      \n",
    " .crosses       |                      | [Link](http://toblerity.org/shapely/manual.html#object.crosses)       | If the interior of the object intersects the interior of the other but does not contain it, and the dimension of the intersection is less than the dimension of the one or the other. \n",
    " .disjoint      |                      | [Link](http://toblerity.org/shapely/manual.html#object.disjoint)      | If the boundary and interior of the object do not intersect at all with those of the other. Inverse of intersects.                                                                    \n",
    " .equals        |                      | [Link](http://toblerity.org/shapely/manual.html#object.equals)        | If the boundary, interior, and exterior are all the same. Note it operates independently of ````=```` or ````is````.                                                                  \n",
    " .intersects    |                      | [Link](http://toblerity.org/shapely/manual.html#object.intersects)    | If the boundary and interior of the object intersect in any way with those of the other. The most lenient relationship to be fulfilled.                                               \n",
    " .touches       |                      | [Link](http://toblerity.org/shapely/manual.html#object.touches)       | If the objects have at least one point in common and their interiors do not intersect with any part of the other. Quite different to Intersects.                                      \n",
    " .within        |                      | [Link](http://toblerity.org/shapely/manual.html#object.within)        | If the object’s boundary and interior intersect only with the interior of the other (not its boundary or exterior).                                                                   \n",
    "\n",
    "One useful feature of these is that they can be used as predicates for ````filter```` calls.\n",
    "\n",
    "Also there's the ````relate```` method that returns the DE-9IM matrix of the two objects:\n",
    "\n",
    " Name           | Additional arguments | Manual Link                                                           | Description                                                                                                                                                                           \n",
    "----------------|----------------------|-----------------------------------------------------------------------|---------------------------------------------------------------------------------------------------------------------------------------------------------------------------------------\n",
    " .relate        |                      | [Link](http://toblerity.org/shapely/manual.html#object.relate)        | Returns a string representation of the DE-9IM matrix of relationships between an object’s interior, boundary, exterior and those of another geometric object.\n",
    "\n",
    "The manual also highlights the option to use ````within```` to create a sorting function to spatially sort a set of geometries:"
   ]
  },
  {
   "cell_type": "code",
   "execution_count": 15,
   "metadata": {},
   "outputs": [
    {
     "name": "stdout",
     "output_type": "stream",
     "text": [
      "POLYGON ((0 0, 0 4, 4 4, 4 0, 0 0))\n",
      "POINT (2 2)\n",
      "POINT (-1 -1)\n",
      "POLYGON ((1 1, 1 3, 3 3, 3 1, 1 1))\n",
      "POLYGON ((0 0, 0 4, 4 4, 4 0, 0 0))\n",
      "\n",
      "\n",
      "POINT (-1 -1)\n",
      "POLYGON ((0 0, 0 4, 4 4, 4 0, 0 0))\n",
      "POLYGON ((0 0, 0 4, 4 4, 4 0, 0 0))\n",
      "POLYGON ((1 1, 1 3, 3 3, 3 1, 1 1))\n",
      "POINT (2 2)\n",
      "\n"
     ]
    }
   ],
   "source": [
    "class Within(object):\n",
    "    def __init__(self, o):\n",
    "        self.o = o\n",
    "    def __lt__(self, other):\n",
    "        return self.o.within(other.o)\n",
    "\n",
    "a = spg.Point(2, 2)\n",
    "b = spg.Polygon([[1, 1], [1, 3], [3, 3], [3, 1]])\n",
    "c = spg.Polygon([[0, 0], [0, 4], [4, 4], [4, 0]])\n",
    "d = spg.Point(-1, -1)\n",
    "\n",
    "features = [c, a, d, b, c]\n",
    "features_s = sorted(features, key=Within, reverse=True)\n",
    "\n",
    "[print(x) for x in features]\n",
    "print('\\n')\n",
    "[print(x) for x in features_s]\n",
    "print(\"\")"
   ]
  },
  {
   "cell_type": "markdown",
   "metadata": {},
   "source": [
    "## Geometry Generation / Derivation\n",
    "\n",
    "These are methods called on a geometry that return another geometry\n",
    "\n",
    " Name                                                                                   | Manual.Link                                                                  | PostGIS.Equivalent                                                                                                                                 | Description                                                                                                                                                                                                      \n",
    "----------------------------------------------------------------------------------------|------------------------------------------------------------------------------|----------------------------------------------------------------------------------------------------------------------------------------------------|------------------------------------------------------------------------------------------------------------------------------------------------------------------------------------------------------------------\n",
    " ````.boundary````                                                                      | [Link](http://toblerity.org/shapely/manual.html#object.boundary)             | [ST_Boundary](https://postgis.net/docs/ST_Boundary.html)                                                                                           | Returns a lower dimensional object representing the object’s set-theoretic boundary.                                                                                                                             \n",
    " ````.centroid````                                                                      | [Link](http://toblerity.org/shapely/manual.html#object.centroid)             | [ST_Centroid](https://postgis.net/docs/ST_Centroid.html)                                                                                           | Returns a representation of the object’s geometric centroid (point).                                                                                                                                             \n",
    " ````.difference(other)````                                                             | [Link](http://toblerity.org/shapely/manual.html#object.difference)           | [ST_Difference](https://postgis.net/docs/ST_Difference.html)                                                                                       | Returns a representation of the points making up this geometric object that do not make up the other object.                                                                                                     \n",
    " ````.intersection(other)````                                                           | [Link](http://toblerity.org/shapely/manual.html#object.intersection)         | [ST_Intersection](https://postgis.net/docs/ST_Intersection.html)                                                                                   | Returns a representation of the intersection of this object with the other geometric object.                                                                                                                     \n",
    " ````.symmetric_difference(other)````                                                   | [Link](http://toblerity.org/shapely/manual.html#object.symmetric_difference) | [ST_SymDifference](https://postgis.net/docs/ST_SymDifference.html)                                                                                 | Returns a representation of the points in this object not in the other geometric object, and the points in the other not in this geometric object. Basically the union of the difference run in both directions. \n",
    " ````.union(other)````                                                                  | [Link](http://toblerity.org/shapely/manual.html#object.union)                | [ST_Union](https://postgis.net/docs/ST_Union.html)                                                                                                 | Returns a representation of the union of points from this object and the other geometric object.                                                                                                                 \n",
    " ````.buffer(distance, resolution=16, cap_style=1, join_style=1, mitre_limit=1.0)````   | [Link](http://toblerity.org/shapely/manual.html#object.buffer)               | [ST_Buffer](https://postgis.net/docs/ST_Buffer.html)                                                                                               | Returns an approximate representation of all points within a given distance of the this geometric object (see notes).                                                                                            \n",
    " ````.convex_hull````                                                                   | [Link](http://toblerity.org/shapely/manual.html#object.convex_hull)          | [ST_ConvexHull](https://postgis.net/docs/ST_ConvexHull.html)                                                                                       | Returns the convex hull of a geometry.                                                                                                                                                                           \n",
    " ````.envelope````                                                                      | [Link](http://toblerity.org/shapely/manual.html#object.envelope)             | [ST_Envelope](https://postgis.net/docs/ST_Envelope.html)                                                                                           | Returns a representation of the point or smallest rectangular polygon (with sides parallel to the coordinate axes) that contains the object.                                                                     \n",
    " ````.parallel_offset(distance, side, resolution=16, join_style=1, mitre_limit=1.0)```` | [Link](http://toblerity.org/shapely/manual.html#object.parallel_offset)      | [ST_OffsetCurve](https://postgis.net/docs/ST_OffsetCurve.html)                                                                                     | Returns a LineString or MultiLineString geometry at a distance from the object on its right or its left side (see notes). Only available for LinearRing and LineString.                                          \n",
    " ````.simplify(tolerance, preserve_topology=True)````                                   | [Link](http://toblerity.org/shapely/manual.html#object.simplify)             | [ST_Simplify](https://postgis.net/docs/ST_Simplify.html), [ST_SimplifyPreserveTopology](https://postgis.net/docs/ST_SimplifyPreserveTopology.html) | Returns a simplified geometry (Douglas-Peucker or topology-preserving equivalent).                                                                                                                               \n",
    "\n",
    "### Buffers / Parallel Offset Parameters\n",
    "\n",
    "The buffer and parallel offset operations have enough options to need their own section here (they share most of the same parameters).\n",
    "\n",
    "Cap & join styles are stored as integers, also accessible via attributes for [cap styles](http://toblerity.org/shapely/manual.html#shapely.geometry.CAP_STYLE):\n",
    "\n",
    " Attribute                                 | Value | Description                                                      \n",
    "-------------------------------------------|-------|------------------------------------------------------------------\n",
    " ````shapely.geometry.CAP_STYLE.round````  | 1     | The line end is expanded to approximate a portion of a circle.   \n",
    " ````shapely.geometry.CAP_STYLE.flat````   | 2     | The line is extended to both sides, but not beyond the line-end. \n",
    " ````shapely.geometry.CAP_STYLE.square```` | 3     | The line end is expanded to approximate a square.                \n",
    "\n",
    "And for [join stypes](http://toblerity.org/shapely/manual.html#shapely.geometry.JOIN_STYLE):\n",
    "\n",
    "Attribute                                 | Value | Description                                                                                                                                   \n",
    "------------------------------------------|-------|-----------------------------------------------------------------------------------------------------------------------------------------------\n",
    "````shapely.geometry.JOIN_STYLE.round```` | 1     | Each corner is expanded to approximate a portion of a circle.                                                                                 \n",
    "````shapely.geometry.JOIN_STYLE.mitre```` | 2     | The buffered edges are extended until they join (up until the ````mitre_limit````). ([Mitre Join](https://en.wikipedia.org/wiki/Miter_joint)) \n",
    "````shapely.geometry.JOIN_STYLE.bevel```` | 3     | The buffered edges are extended with the end flattened off ([Bevel](https://en.wikipedia.org/wiki/Bevel))                                     \n",
    "\n",
    "With round caps / joins being estimated using a number of points specified by the ````resolution```` argument. By default both styles are rounded.\n",
    "\n",
    "The ````mitre_limit```` is a measure of how far out the mitred point will be before it's bevelled off.\n",
    "\n",
    "A buffer of radius 0 *is* calculated, so will re-generate the geometry & clean up self-touching/self-crossing polygons."
   ]
  },
  {
   "cell_type": "markdown",
   "metadata": {},
   "source": [
    "## Affine Transformations\n",
    "\n",
    "Shapely supports affine transformations through the ````shapely.affinity```` module. This canbe done either through single-process functions or as a matrix-based transformation."
   ]
  },
  {
   "cell_type": "code",
   "execution_count": 16,
   "metadata": {},
   "outputs": [
    {
     "data": {
      "image/svg+xml": [
       "<svg xmlns=\"http://www.w3.org/2000/svg\" xmlns:xlink=\"http://www.w3.org/1999/xlink\" width=\"100.0\" height=\"100.0\" viewBox=\"-0.04 -0.04 1.08 1.08\" preserveAspectRatio=\"xMinYMin meet\"><g transform=\"matrix(1,0,0,-1,0,1.0)\"><polyline fill=\"none\" stroke=\"#66cc99\" stroke-width=\"0.0216\" points=\"1.0,0.0 0.0,1.0\" opacity=\"0.8\" /></g></svg>"
      ],
      "text/plain": [
       "<shapely.geometry.linestring.LineString at 0x16cf72216d8>"
      ]
     },
     "execution_count": 16,
     "metadata": {},
     "output_type": "execute_result"
    }
   ],
   "source": [
    "shapely.affinity.rotate(the_line, 90)"
   ]
  },
  {
   "cell_type": "markdown",
   "metadata": {},
   "source": [
    " Name                                                                                    | Description                                                                                             \n",
    "-----------------------------------------------------------------------------------------|---------------------------------------------------------------------------------------------------------\n",
    " ````shapely.affinity.affine_transform(geom, matrix)````                                 | Returns a transformed geometry using an affine transformation matrix.                                   \n",
    " ````shapely.affinity.rotate(geom, angle, origin='center', use_radians=False)````        | Returns a rotated geometry on a 2D plane.                                                               \n",
    " ````shapely.affinity.scale(geom, xfact=1.0, yfact=1.0, zfact=1.0, origin='center')````  | Returns a scaled geometry, scaled by factors along each dimension. Negative factors mirror coordinates. \n",
    " ````shapely.affinity.skew(geom, xs=0.0, ys=0.0, origin='center', use_radians=False)```` | Returns a skewed geometry, sheared by angles along x and y dimensions.                                  \n",
    " ````shapely.affinity.translate(geom, xoff=0.0, yoff=0.0, zoff=0.0)````                  | Returns a translated geometry shifted by offsets along each dimension.                                  \n",
    "\n",
    "\n",
    "\n",
    "The transformation matrix is provided as a list / tuple with 6 (for 2D) or 12 (for 3D) transformations, e.g. ````[a, b, d, e, xoff, yoff]````.\n",
    "\n",
    "Origin can be ````'center'```` (bbox centre),  ````'centroid'```` (geometry centroid), a point or a coordinate tuple ````(x0, y0)````."
   ]
  },
  {
   "cell_type": "markdown",
   "metadata": {},
   "source": [
    "## Validating Geometries\n",
    "\n",
    "As mentioned above - Shapely will let invalid geometries be defined, but won't do any sort of checking on the inputs. The ````.is_valid```` method is useful, but doesn't actually solve anything."
   ]
  },
  {
   "cell_type": "code",
   "execution_count": 17,
   "metadata": {},
   "outputs": [
    {
     "data": {
      "image/svg+xml": [
       "<svg xmlns=\"http://www.w3.org/2000/svg\" xmlns:xlink=\"http://www.w3.org/1999/xlink\" width=\"100.0\" height=\"100.0\" viewBox=\"-1.08 -1.08 2.16 2.16\" preserveAspectRatio=\"xMinYMin meet\"><g transform=\"matrix(1,0,0,-1,0,0.0)\"><path fill-rule=\"evenodd\" fill=\"#ff3333\" stroke=\"#555555\" stroke-width=\"0.0432\" opacity=\"0.6\" d=\"M -1.0,-1.0 L 0.0,-1.0 L 0.0,1.0 L 1.0,1.0 L 1.0,0.0 L -1.0,0.0 L -1.0,-1.0 z\" /></g></svg>"
      ],
      "text/plain": [
       "<shapely.geometry.polygon.Polygon at 0x16cf7221e10>"
      ]
     },
     "execution_count": 17,
     "metadata": {},
     "output_type": "execute_result"
    }
   ],
   "source": [
    "fig_of_eight = spg.Polygon([(-1, -1), (0, -1), (0, 1),\n",
    "                            (1, 1), (1, 0), (-1, 0)\n",
    "                           ])\n",
    "fig_of_eight"
   ]
  },
  {
   "cell_type": "code",
   "execution_count": 18,
   "metadata": {},
   "outputs": [
    {
     "name": "stdout",
     "output_type": "stream",
     "text": [
      "0.0\n",
      "False\n"
     ]
    }
   ],
   "source": [
    "print(fig_of_eight.area)\n",
    "print(fig_of_eight.is_valid)"
   ]
  },
  {
   "cell_type": "markdown",
   "metadata": {},
   "source": [
    "The ````explain_validity```` function in the ````validation```` module will explain the problem (seems to be the only real function in the module at the time of writing)."
   ]
  },
  {
   "cell_type": "code",
   "execution_count": 19,
   "metadata": {},
   "outputs": [
    {
     "name": "stdout",
     "output_type": "stream",
     "text": [
      "Self-intersection[0 0]\n"
     ]
    }
   ],
   "source": [
    "print(spv.explain_validity(fig_of_eight))"
   ]
  },
  {
   "cell_type": "markdown",
   "metadata": {},
   "source": [
    "While the manual states ````.buffer(0)```` will fix self-crossing polygons, this doesn't seem to actually be the case:"
   ]
  },
  {
   "cell_type": "code",
   "execution_count": 20,
   "metadata": {},
   "outputs": [
    {
     "name": "stdout",
     "output_type": "stream",
     "text": [
      "1.0\n",
      "(0.0, 0.0, 1.0, 1.0)\n"
     ]
    },
    {
     "data": {
      "image/svg+xml": [
       "<svg xmlns=\"http://www.w3.org/2000/svg\" xmlns:xlink=\"http://www.w3.org/1999/xlink\" width=\"100.0\" height=\"100.0\" viewBox=\"-0.04 -0.04 1.08 1.08\" preserveAspectRatio=\"xMinYMin meet\"><g transform=\"matrix(1,0,0,-1,0,1.0)\"><path fill-rule=\"evenodd\" fill=\"#66cc99\" stroke=\"#555555\" stroke-width=\"0.0216\" opacity=\"0.6\" d=\"M 0.0,0.0 L 0.0,1.0 L 1.0,1.0 L 1.0,0.0 L 0.0,0.0 z\" /></g></svg>"
      ],
      "text/plain": [
       "<shapely.geometry.polygon.Polygon at 0x16cf7221ba8>"
      ]
     },
     "execution_count": 20,
     "metadata": {},
     "output_type": "execute_result"
    }
   ],
   "source": [
    "print(fig_of_eight.buffer(0).area)\n",
    "print(fig_of_eight.buffer(0).bounds)\n",
    "fig_of_eight.buffer(0)"
   ]
  },
  {
   "cell_type": "markdown",
   "metadata": {},
   "source": [
    "As shown above - it cuts off the lower half of the geometry - so not something to trust 100% blind. Some functions *don't* seem to care however. There doesn't seem to be a comprehensive way to validate geometries so it seems to be a case of never assuming data quality.\n",
    "\n",
    "It's probably not the worst idea to define a function to attempt the clean - and return the original if the bounds change."
   ]
  },
  {
   "cell_type": "markdown",
   "metadata": {},
   "source": [
    "## External Formats\n",
    "\n",
    "Shapely's also capable of importing from / exporting to a number of other formats, the list of methods / attributes is:\n",
    "\n",
    " Name              | Output.Format                                                                        | Description                                              \n",
    "-------------------|--------------------------------------------------------------------------------------|----------------------------------------------------------\n",
    " ````.to_wkt()```` | [Well-Known Text](https://en.wikipedia.org/wiki/Well-known_text)                     | The WKT representation to 14 decimal places (fixed).     \n",
    " ````.to_wkb()```` | [Well-known Binary](https://en.wikipedia.org/wiki/Well-known_text#Well-known_binary) | The WKB of the geometry as a ````bytes```` object.       \n",
    " ````.svg()````    | [Scalable Vector Graphics](https://en.wikipedia.org/wiki/Scalable_Vector_Graphics)   | The SVG representation of the geometry (pre-set styles). \n",
    " ````.wkb````     | [Well-known Binary](https://en.wikipedia.org/wiki/Well-known_text#Well-known_binary) | The WKB of the geometry as a ````bytes```` object.       \n",
    " ````.wkb_hex`````  | [Well-known Binary](https://en.wikipedia.org/wiki/Well-known_text#Well-known_binary) | The WKB of the geometry as a hex string.                 \n",
    " ````.wkt````      | [Well-known Text](https://en.wikipedia.org/wiki/Well-known_text)                     | The WKT representation with trailing 0's trimmed.        \n"
   ]
  },
  {
   "cell_type": "markdown",
   "metadata": {},
   "source": [
    "The ````wkt```` & ````wkb```` modules are [also ways of importing / exporting data](http://toblerity.org/shapely/manual.html#well-known-formats). The ````loads```` and ````dumps```` functions take an object as input, whereas ````load```` and ````dump```` go direct from a file. The source / destination depends on the module being used:"
   ]
  },
  {
   "cell_type": "code",
   "execution_count": 21,
   "metadata": {},
   "outputs": [
    {
     "name": "stdout",
     "output_type": "stream",
     "text": [
      "[(5.001, 42.0)]\n",
      "POINT (0.0000000000000000 1.0000000000000000)\n",
      "b'\\x01\\x01\\x00\\x00\\x00\\x00\\x00\\x00\\x00\\x00\\x00\\x00\\x00\\x00\\x00\\x00\\x00\\x00\\x00\\xf0?'\n"
     ]
    }
   ],
   "source": [
    "print(list(shapely.wkt.loads('POINT(5.001 42)').coords))\n",
    "print(shapely.wkt.dumps(the_point))\n",
    "print(shapely.wkb.dumps(the_point))"
   ]
  },
  {
   "cell_type": "markdown",
   "metadata": {},
   "source": [
    "There's also provision to adapt any other type of object to a Shapely geometry by using the [geointerface](https://gist.github.com/sgillies/2217756).\n",
    "\n",
    "I've not read through it thoroughly, but it seems to be based on defining a ````__geo_interface__```` method for the class - just a dictionary with a set of standard properties. This is more for developers - but seems to be a standard shared by several libraries."
   ]
  },
  {
   "cell_type": "code",
   "execution_count": 22,
   "metadata": {},
   "outputs": [
    {
     "name": "stdout",
     "output_type": "stream",
     "text": [
      "{'type': 'Point', 'coordinates': (0.0, 1.0)}\n",
      "{'type': 'LineString', 'coordinates': ((0.0, 0.0), (1.0, 1.0))}\n",
      "{'type': 'LinearRing', 'coordinates': ((0.0, 0.0), (1.0, 0.0), (1.0, 1.0), (0.0, 1.0), (0.0, 0.0))}\n",
      "{'type': 'Polygon', 'coordinates': (((-1.0, -1.0), (2.0, -1.0), (2.0, 2.0), (-1.0, 2.0), (-1.0, -1.0)),)}\n"
     ]
    }
   ],
   "source": [
    "print(the_point.__geo_interface__)\n",
    "print(the_line.__geo_interface__)\n",
    "print(the_ring.__geo_interface__)\n",
    "print(the_polygon.__geo_interface__)\n",
    "# print(the_polygon_rings.__geo_interface__)"
   ]
  }
 ],
 "metadata": {
  "kernelspec": {
   "display_name": "Python 3",
   "language": "python",
   "name": "python3"
  },
  "language_info": {
   "codemirror_mode": {
    "name": "ipython",
    "version": 3
   },
   "file_extension": ".py",
   "mimetype": "text/x-python",
   "name": "python",
   "nbconvert_exporter": "python",
   "pygments_lexer": "ipython3",
   "version": "3.6.4"
  }
 },
 "nbformat": 4,
 "nbformat_minor": 2
}
