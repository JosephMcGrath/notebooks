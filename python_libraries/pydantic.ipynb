{
 "cells": [
  {
   "cell_type": "markdown",
   "id": "documented-casting",
   "metadata": {},
   "source": [
    "# Pydantic\n",
    "\n",
    "[Official help](https://pydantic-docs.helpmanual.io/)\n",
    "\n",
    "Pydantic lets you define and validate data structures in Python using native type annotations.\n"
   ]
  },
  {
   "cell_type": "code",
   "execution_count": 1,
   "id": "immediate-digit",
   "metadata": {},
   "outputs": [],
   "source": [
    "from datetime import datetime\n",
    "from typing import List, Optional\n",
    "import pydantic"
   ]
  },
  {
   "cell_type": "markdown",
   "id": "rolled-shannon",
   "metadata": {},
   "source": [
    "## Basic Usage\n",
    "\n",
    "The core functionality of pydantic comes through the `BaseModel` class and can be used similarly to regular Python `dataclasses` but a bit more heavy-duty.\n",
    "This can include defaults (from which pydantic can infer the correct type) and classes from the `typing` module."
   ]
  },
  {
   "cell_type": "code",
   "execution_count": 2,
   "id": "divided-reverse",
   "metadata": {},
   "outputs": [
    {
     "data": {
      "text/plain": [
       "User(id=123, signup_ts=datetime.datetime(2019, 6, 1, 12, 22), friends=[1, 2, 3], name='John Doe')"
      ]
     },
     "execution_count": 2,
     "metadata": {},
     "output_type": "execute_result"
    }
   ],
   "source": [
    "class User(pydantic.BaseModel):\n",
    "    id: int\n",
    "    name = 'John Doe'\n",
    "    signup_ts: Optional[datetime] = None\n",
    "    friends: List[int] = []\n",
    "\n",
    "external_data = {\n",
    "    'id': '123',\n",
    "    'signup_ts': '2019-06-01 12:22',\n",
    "    'friends': [1, 2, '3'],\n",
    "}\n",
    "user = User(**external_data)\n",
    "user"
   ]
  },
  {
   "cell_type": "markdown",
   "id": "indirect-organization",
   "metadata": {},
   "source": [
    "And then the attributes can be accessed more or less as you'd expect:"
   ]
  },
  {
   "cell_type": "code",
   "execution_count": 3,
   "id": "military-nightlife",
   "metadata": {},
   "outputs": [
    {
     "data": {
      "text/plain": [
       "123"
      ]
     },
     "execution_count": 3,
     "metadata": {},
     "output_type": "execute_result"
    }
   ],
   "source": [
    "user.id"
   ]
  },
  {
   "cell_type": "code",
   "execution_count": 4,
   "id": "delayed-studio",
   "metadata": {},
   "outputs": [
    {
     "data": {
      "text/plain": [
       "'datetime.datetime(2019, 6, 1, 12, 22)'"
      ]
     },
     "execution_count": 4,
     "metadata": {},
     "output_type": "execute_result"
    }
   ],
   "source": [
    "repr(user.signup_ts)"
   ]
  },
  {
   "cell_type": "code",
   "execution_count": 5,
   "id": "chemical-personality",
   "metadata": {},
   "outputs": [
    {
     "data": {
      "text/plain": [
       "[1, 2, 3]"
      ]
     },
     "execution_count": 5,
     "metadata": {},
     "output_type": "execute_result"
    }
   ],
   "source": [
    "user.friends"
   ]
  },
  {
   "cell_type": "code",
   "execution_count": 6,
   "id": "collective-breast",
   "metadata": {},
   "outputs": [
    {
     "data": {
      "text/plain": [
       "{'id': 123,\n",
       " 'signup_ts': datetime.datetime(2019, 6, 1, 12, 22),\n",
       " 'friends': [1, 2, 3],\n",
       " 'name': 'John Doe'}"
      ]
     },
     "execution_count": 6,
     "metadata": {},
     "output_type": "execute_result"
    }
   ],
   "source": [
    "user.dict()"
   ]
  },
  {
   "cell_type": "markdown",
   "id": "flush-highlight",
   "metadata": {},
   "source": [
    "## Errors\n",
    "\n",
    "Pydantic will raise an error if the typing checks fail.\n",
    "These can be extracted out as a JSON string:"
   ]
  },
  {
   "cell_type": "code",
   "execution_count": 7,
   "id": "simple-missile",
   "metadata": {},
   "outputs": [
    {
     "name": "stdout",
     "output_type": "stream",
     "text": [
      "[\n",
      "    {\n",
      "        \"loc\": [\n",
      "            \"id\"\n",
      "        ],\n",
      "        \"msg\": \"field required\",\n",
      "        \"type\": \"value_error.missing\"\n",
      "    },\n",
      "    {\n",
      "        \"loc\": [\n",
      "            \"signup_ts\"\n",
      "        ],\n",
      "        \"msg\": \"invalid datetime format\",\n",
      "        \"type\": \"value_error.datetime\"\n",
      "    },\n",
      "    {\n",
      "        \"loc\": [\n",
      "            \"friends\",\n",
      "            2\n",
      "        ],\n",
      "        \"msg\": \"value is not a valid integer\",\n",
      "        \"type\": \"type_error.integer\"\n",
      "    }\n",
      "]\n"
     ]
    }
   ],
   "source": [
    "try:\n",
    "    User(signup_ts='broken', friends=[1, 2, 'not number'])\n",
    "except pydantic.ValidationError as e:\n",
    "    print(e.json(indent = 4))"
   ]
  },
  {
   "cell_type": "markdown",
   "id": "numeric-capitol",
   "metadata": {},
   "source": [
    "## Field Types\n",
    "\n",
    "Pydantic allows the standard / `typing` data types.\n",
    "The [official documentation](https://pydantic-docs.helpmanual.io/usage/types/) has a good list but a useful subset is:\n",
    "\n",
    "| Data Type            | Notes                                         |\n",
    "|----------------------|-----------------------------------------------|\n",
    "| `None`               |                                               |\n",
    "| `bool`               | Common-sense conversion (not just evaluated). |\n",
    "| `int`                | Will attempt conversion.                      |\n",
    "| `float`              | Will attempt conversion.                      |\n",
    "| `str`                | Will attempt conversion.                      |\n",
    "| `bytes`              |                                               |\n",
    "| `datetime.date`      |                                               |\n",
    "| `datetime.time`      |                                               |\n",
    "| `datetime.datetime`  |                                               |\n",
    "| `datetime.timedelta` |                                               |\n",
    "| `typing.Any`         | Can be `None` - optional.                     |\n",
    "| `typing.Union`       | Can get a bit messy.                          |\n",
    "| `typing.Dict`        |                                               |\n",
    "| `typing.Set`         |                                               |\n",
    "| `typing.List`        |                                               |\n",
    "| `enum.Enum`          |                                               |\n",
    "| `decimal.Decimal`    |                                               |\n",
    "| `pathlib.Path`       |                                               |\n",
    "| `uuid.UUID`          |                                               |\n",
    "\n",
    "But also has it's own [additional types](https://pydantic-docs.helpmanual.io/usage/types/#pydantic-types) that cover a lot of common use-cases out of the box."
   ]
  },
  {
   "cell_type": "markdown",
   "id": "asian-artist",
   "metadata": {},
   "source": [
    "## Validators\n",
    "\n",
    "You can also have more complicated validation, for example:"
   ]
  },
  {
   "cell_type": "code",
   "execution_count": 8,
   "id": "minimal-likelihood",
   "metadata": {},
   "outputs": [],
   "source": [
    "class UserModel(pydantic.BaseModel):\n",
    "    name: str\n",
    "    username: str\n",
    "    password1: str\n",
    "    password2: str\n",
    "\n",
    "    @pydantic.validator('name')\n",
    "    def name_must_contain_space(cls, v):\n",
    "        if ' ' not in v:\n",
    "            raise ValueError('must contain a space')\n",
    "        return v.title()\n",
    "\n",
    "    @pydantic.validator('password2')\n",
    "    def passwords_match(cls, v, values, **kwargs):\n",
    "        if 'password1' in values and v != values['password1']:\n",
    "            raise ValueError('passwords do not match')\n",
    "        return v\n",
    "\n",
    "    @pydantic.validator('username')\n",
    "    def username_alphanumeric(cls, v):\n",
    "        assert v.isalnum(), 'must be alphanumeric'\n",
    "        return v\n",
    "\n",
    "user = UserModel(\n",
    "    name='samuel colvin',\n",
    "    username='scolvin',\n",
    "    password1='zxcvbn',\n",
    "    password2='zxcvbn',\n",
    ")"
   ]
  },
  {
   "cell_type": "markdown",
   "id": "minus-communications",
   "metadata": {},
   "source": [
    "Which allows more complicated, arbiitary validation between fields:"
   ]
  },
  {
   "cell_type": "code",
   "execution_count": 9,
   "id": "hollywood-massage",
   "metadata": {},
   "outputs": [
    {
     "name": "stdout",
     "output_type": "stream",
     "text": [
      "2 validation errors for UserModel\n",
      "name\n",
      "  must contain a space (type=value_error)\n",
      "password2\n",
      "  passwords do not match (type=value_error)\n"
     ]
    }
   ],
   "source": [
    "try:\n",
    "    UserModel(\n",
    "        name='samuel',\n",
    "        username='scolvin',\n",
    "        password1='zxcvbn',\n",
    "        password2='zxcvbn2',\n",
    "    )\n",
    "except pydantic.ValidationError as e:\n",
    "    print(e)"
   ]
  },
  {
   "cell_type": "markdown",
   "id": "german-keyboard",
   "metadata": {},
   "source": [
    "A few notes:\n",
    "\n",
    "* These are class methods,\n",
    "* They should either:\n",
    "    * Return the parsed value,\n",
    "    * Raise a `ValueError`, `TypeError` or `AssertionError` (though `assert` statements may be ignored in some Python environments),\n",
    "* The second attribute is the value to validate (naming doesn't matter),\n",
    "* Can have one of several named arguments:\n",
    "    * `values` - a dictionary with previously validated fields (fields are validated in the order they are defined),\n",
    "    * `config` - the model config,\n",
    "    * `field` - the field being validated (useful for more complex field definitions),\n",
    "    * `**kwargs`` - all of the above,\n",
    "* If validation fails on one field, it won't be available for the next field,\n"
   ]
  },
  {
   "cell_type": "markdown",
   "id": "anonymous-occasions",
   "metadata": {},
   "source": [
    "### Pre-validation\n",
    "\n",
    "If `pre=True` is set in the `validator` definition the method is run before validation - useful for on-initialisation fixing."
   ]
  },
  {
   "cell_type": "markdown",
   "id": "incoming-preview",
   "metadata": {},
   "source": [
    "## Re-using Validators\n",
    "\n",
    "Validators can be applied to multiple fields at once by passing multiple names, or all the fields with `\"*\"`."
   ]
  },
  {
   "cell_type": "markdown",
   "id": "charged-fraction",
   "metadata": {},
   "source": [
    "## Validating Iterables\n",
    "\n",
    "Passing `each_item=True` will cause the validator to be called on each item in the iterable.\n",
    "This should work for both `List`s and `Dict`s.\n",
    "Alternatively you can iterate over the items as part of the validator."
   ]
  },
  {
   "cell_type": "code",
   "execution_count": 10,
   "id": "broken-electron",
   "metadata": {},
   "outputs": [
    {
     "data": {
      "text/plain": [
       "DemoModel(square_numbers=[1, 4, 9], cube_numbers=[])"
      ]
     },
     "execution_count": 10,
     "metadata": {},
     "output_type": "execute_result"
    }
   ],
   "source": [
    "from typing import List\n",
    "from pydantic import BaseModel, ValidationError, validator\n",
    "\n",
    "\n",
    "class DemoModel(pydantic.BaseModel):\n",
    "    square_numbers: List[int] = []\n",
    "    cube_numbers: List[int] = []\n",
    "\n",
    "    @pydantic.validator('*', pre=True)\n",
    "    def split_str(cls, v):\n",
    "        if isinstance(v, str):\n",
    "            return v.split('|')\n",
    "        return v\n",
    "\n",
    "    @pydantic.validator('cube_numbers', 'square_numbers')\n",
    "    def check_sum(cls, v):\n",
    "        if sum(v) > 42:\n",
    "            raise ValueError('sum of numbers greater than 42')\n",
    "        return v\n",
    "\n",
    "    @pydantic.validator('square_numbers', each_item=True)\n",
    "    def check_squares(cls, v):\n",
    "        assert v ** 0.5 % 1 == 0, f'{v} is not a square number'\n",
    "        return v\n",
    "\n",
    "    @pydantic.validator('cube_numbers', each_item=True)\n",
    "    def check_cubes(cls, v):\n",
    "        # 64 ** (1 / 3) == 3.9999999999999996 (!)\n",
    "        # this is not a good way of checking cubes\n",
    "        assert v ** (1 / 3) % 1 == 0, f'{v} is not a cubed number'\n",
    "        return v\n",
    "\n",
    "DemoModel(square_numbers=[1, 4, 9])"
   ]
  },
  {
   "cell_type": "code",
   "execution_count": 11,
   "id": "similar-context",
   "metadata": {},
   "outputs": [
    {
     "data": {
      "text/plain": [
       "DemoModel(square_numbers=[1, 4, 16], cube_numbers=[])"
      ]
     },
     "execution_count": 11,
     "metadata": {},
     "output_type": "execute_result"
    }
   ],
   "source": [
    "DemoModel(square_numbers='1|4|16')"
   ]
  },
  {
   "cell_type": "markdown",
   "id": "recovered-disability",
   "metadata": {},
   "source": [
    "## Forcing Validation\n",
    "\n",
    "Validation isn't run on fields without a value specified, but `always=True` will force it to be called (e.g. for dynamic default generation in conjunction with `pre=True`)."
   ]
  },
  {
   "cell_type": "code",
   "execution_count": 12,
   "id": "progressive-marks",
   "metadata": {},
   "outputs": [
    {
     "data": {
      "text/plain": [
       "DemoModel(ts=datetime.datetime(2021, 3, 29, 20, 46, 41, 194498))"
      ]
     },
     "execution_count": 12,
     "metadata": {},
     "output_type": "execute_result"
    }
   ],
   "source": [
    "class DemoModel(pydantic.BaseModel):\n",
    "    ts: datetime = None\n",
    "\n",
    "    @pydantic.validator('ts', pre=True, always=True)\n",
    "    def set_ts_now(cls, v):\n",
    "        return v or datetime.now()\n",
    "\n",
    "DemoModel()"
   ]
  }
 ],
 "metadata": {
  "kernelspec": {
   "display_name": "Python [conda env:learning_pydantic] *",
   "language": "python",
   "name": "conda-env-learning_pydantic-py"
  },
  "language_info": {
   "codemirror_mode": {
    "name": "ipython",
    "version": 3
   },
   "file_extension": ".py",
   "mimetype": "text/x-python",
   "name": "python",
   "nbconvert_exporter": "python",
   "pygments_lexer": "ipython3",
   "version": "3.8.8"
  }
 },
 "nbformat": 4,
 "nbformat_minor": 5
}
