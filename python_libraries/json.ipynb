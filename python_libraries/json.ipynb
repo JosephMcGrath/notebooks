{
 "cells": [
  {
   "cell_type": "markdown",
   "metadata": {},
   "source": [
    "# JSON\n",
    "\n",
    "The ````json```` library is a pretty simple interface to go between Python objects and [JSON](https://en.wikipedia.org/wiki/JSON) strings."
   ]
  },
  {
   "cell_type": "code",
   "execution_count": 1,
   "metadata": {},
   "outputs": [],
   "source": [
    "import json"
   ]
  },
  {
   "cell_type": "markdown",
   "metadata": {},
   "source": [
    "The library can run in two main modes: to a Python ````str```` or direct to a file. This seems to be a somewhat generic syntax with ````dump```` writing to a '[file-like objects](https://docs.python.org/3/glossary.html#term-file-like-object)' and ````dumps```` writing to a string with ````load```` coming from a file and ````loads```` from a string."
   ]
  },
  {
   "cell_type": "markdown",
   "metadata": {},
   "source": [
    "## Export to JSON\n",
    "\n",
    "When outputting, ````dump```` (files) and ````dumps```` (strings) have the following arguments:\n",
    "\n",
    "* ````indent```` (non-negative integer) - How many spaces each line should be indented. Very useful for pretty outputs, but can get a bit verbose (particularly with lists).\n",
    "* ````sort_keys```` (Boolean, default ````False````) - If the output should be sorted by dictionary keys. useful for making outputs more uniform.\n",
    "* ````skipkeys```` (Boolean, default ````False````) - Dictates behaviour of dictionaries with non-basic keys (````str````, ````int````, ````float````, ````bool````, ````None````).\n",
    "    * If ````False```` then an error will be raised.\n",
    "    * If ````True```` then the item with the non-basic key is skipped.\n",
    "* ````ensure_ascii````(Boolean, default ````True````) - If all non-ASCII characters should be escaped.\n",
    "* ````check_circular```` (Boolean, default ````True````) - If circular references in containers should be checked and cause an error.\n",
    "* ````allow_nan```` (Boolean, default ````True````) - entries that are non-numbers (````nan````, ````inf````, ````-inf````) will cause an error if this is ````True````. This is more for JSON standards than anything.\n",
    "* ````separators```` (Tuple of item_separator & key_separator, default ````(', ', ': ')````) - Allows custom separators. The documentation suggests using ````(',', ':')```` to reduce whitespacing.\n",
    "* ````default```` (String) - If specified, will be used for non-serialisable keys.\n",
    "* ````cls```` - A custom JSON encoder.\n",
    "\n",
    "The mapping of objects through exports is:\n"
   ]
  },
  {
   "cell_type": "markdown",
   "metadata": {},
   "source": [
    "Python                                 | JSON   \n",
    "---------------------------------------|--------\n",
    "dict                                   | object \n",
    "list, tuple                            | array  \n",
    "str                                    | string \n",
    "int, float, int- & float-derived Enums | number \n",
    "True                                   | true   \n",
    "False                                  | false  \n",
    "None                                   | null   "
   ]
  },
  {
   "cell_type": "code",
   "execution_count": 2,
   "metadata": {},
   "outputs": [
    {
     "name": "stdout",
     "output_type": "stream",
     "text": [
      "{\"test_1\": [1, 5, 8], \"a\": 1, \"ham\": \"cheese\"}\n",
      "{\"a\": 1, \"ham\": \"cheese\", \"test_1\": [1, 5, 8]}\n",
      "\n",
      " {\n",
      "    \"test_1\": [\n",
      "        1,\n",
      "        5,\n",
      "        8\n",
      "    ],\n",
      "    \"a\": 1,\n",
      "    \"ham\": \"cheese\"\n",
      "}\n",
      "\n",
      " {\n",
      "    \"a\": 1,\n",
      "    \"ham\": \"cheese\",\n",
      "    \"test_1\": [\n",
      "        1,\n",
      "        5,\n",
      "        8\n",
      "    ]\n",
      "}\n"
     ]
    }
   ],
   "source": [
    "test_obj = {'test_1' : [1, 5, 8], 'a' : 1, 'ham' : 'cheese'}\n",
    "\n",
    "print(json.dumps(test_obj))\n",
    "print(json.dumps(test_obj, sort_keys = True))\n",
    "print('\\n', json.dumps(test_obj, indent = 4))\n",
    "print('\\n', json.dumps(test_obj, sort_keys = True, indent = 4))\n",
    "\n",
    "# with open(\"output.json\", \"w\") as f:\n",
    "#     json.dump(test_obj, f)"
   ]
  },
  {
   "cell_type": "markdown",
   "metadata": {},
   "source": [
    "## Importing From JSON\n",
    "\n",
    "When importing, ````load```` (files) and ````loads```` (strings) have the following arguments:\n",
    "\n",
    "* ````object_hook```` (function) - A function to handle anything that comes out as a ````dict````.\n",
    "* ````parse_float```` (function) - A function to call against any JSON float being decoded.\n",
    "    * The default is ````float(num_str)````.\n",
    "* ````parse_int```` - A function to call against any JSON integer being decoded.\n",
    "    * The default is ````int(num_str)````.\n",
    "* ````parse_constant```` - A function to deal with ````'-Infinity'````, ````'Infinity'```` and ````'NaN'````.\n",
    "* ````object_pairs_hook```` - A function to override normal parsing of ordered pairs.\n",
    "    * Takes priority over ````object_hook````.\n",
    "* ````cls```` - A custom JSON encoder.\n",
    "\n",
    "The inbound mapping into Python is:"
   ]
  },
  {
   "cell_type": "markdown",
   "metadata": {},
   "source": [
    "JSON          | Python  \n",
    "---------------|--------\n",
    " object        | dict   \n",
    " array         | list   \n",
    " string        | str    \n",
    " number (int)  | int    \n",
    " number (real) | float  \n",
    " true          | True   \n",
    " false         | False  \n",
    " null          | None   "
   ]
  },
  {
   "cell_type": "code",
   "execution_count": 3,
   "metadata": {},
   "outputs": [
    {
     "name": "stdout",
     "output_type": "stream",
     "text": [
      "{'test_1': [1, 5, 8], 'a': 1, 'ham': 'cheese'}\n",
      "{'test_1': [1, 5, 8], 'a': 1, 'ham': 'cheese'}\n",
      "{'test_1': [1, 5, 8], 'a': 1, 'ham': 'cheese'}\n",
      "{'a': 1, 'ham': 'cheese', 'test_1': [1, 5, 8]}\n"
     ]
    }
   ],
   "source": [
    "print(test_obj)\n",
    "print(json.loads(json.dumps(test_obj)))\n",
    "print(json.loads(json.dumps(test_obj, indent = 4)))\n",
    "print(json.loads(json.dumps(test_obj, sort_keys = True, indent = 4)))\n",
    "\n",
    "# with open(\"input.json\", \"r\") as f:\n",
    "#     data_in = json.load(test_obj, f)"
   ]
  }
 ],
 "metadata": {
  "kernelspec": {
   "display_name": "Python 3",
   "language": "python",
   "name": "python3"
  },
  "language_info": {
   "codemirror_mode": {
    "name": "ipython",
    "version": 3
   },
   "file_extension": ".py",
   "mimetype": "text/x-python",
   "name": "python",
   "nbconvert_exporter": "python",
   "pygments_lexer": "ipython3",
   "version": "3.6.4"
  }
 },
 "nbformat": 4,
 "nbformat_minor": 2
}
