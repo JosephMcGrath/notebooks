{
 "cells": [
  {
   "cell_type": "markdown",
   "metadata": {},
   "source": [
    "# Popular Python Libraries for Data Visualization\n",
    "\n",
    "* [Youtube Link](https://www.youtube.com/watch?v=6d3Yk7a2qYI)\n",
    "* Speaker: Clare Sloggett\n",
    "* Date: 2017-08-03 - 2017-08-08\n",
    "\n",
    "This is a quick overview of some of the available libraries for visualising data, for the sake of simplicity I'm focussing on an overview of the libraries here - not demonstrations of their use. A previous talk on the subject is mentioned [here](https://www.youtube.com/watch?v=FytuB8nFHPQ).\n",
    "\n",
    "The table at the end summarising suitable libraries:"
   ]
  },
  {
   "cell_type": "markdown",
   "metadata": {},
   "source": [
    " Result                                                   | Libraries Suggested \n",
    "----------------------------------------------------------|---------------------\n",
    "Beautiful, high-level stats plots (static)                | Seaborn \n",
    "Get started with interactive plots                        | Bokeh (or Plotly)(and Altair!)\n",
    "Charts, online hosting & collaboration, paid support      | Plotly \n",
    "Concise visualisation and data exploration (+interactive) | Holoviews (+bokeh) \n",
    "Lots of data points to render                             | datashader (+bokeh) or vaex \n",
    "Interactive maps                                          | ipyleaflets \n",
    "3D volume plots                                           | ipyvolume or Vispy \n",
    "Widgets, dashboards, apps                                 | plotly dash *or* bokeh server *or* bqplot + ipywidgets"
   ]
  },
  {
   "cell_type": "markdown",
   "metadata": {},
   "source": [
    "One thing to note is that not all libraries work with Pandas DataFrames. Support in Jupyter notebooks looks to be driving interactive plotting libraries."
   ]
  },
  {
   "cell_type": "markdown",
   "metadata": {},
   "source": [
    "## [Matplotlib](https://youtu.be/6d3Yk7a2qYI?t=5m26s)\n",
    "\n",
    "The oldest library in the talk, also the most prolific.\n",
    "\n",
    "Has two APIs, one to mimic MATLAB with imperative, stateful syntax (pylab) and an object-oriented one too. Occasionally difficult to get documentation between the two.\n",
    "\n",
    "Has a powerful rendering back-end and has good (if fiddly) low-level control - but not designed for big data.\n",
    "\n",
    "Underpins many other libraries, often not used directly.\n",
    "\n",
    "Version 2.0 came out January 2017, has a more modern aesthetic, is colourblind friendly etc."
   ]
  },
  {
   "cell_type": "markdown",
   "metadata": {},
   "source": [
    "## [Seaborn](https://youtu.be/6d3Yk7a2qYI?t=6m27s)\n",
    "\n",
    "Built on top of Matplotlib, but high-level visualisations. Can be mixed & matched with Matplotlib.\n",
    "\n",
    "Creates static plots with it's own aesthetics (easier than Matplotlib)."
   ]
  },
  {
   "cell_type": "markdown",
   "metadata": {},
   "source": [
    "## [Bokeh](https://youtu.be/6d3Yk7a2qYI?t=1m45s)\n",
    "\n",
    "Interactive plots by default. Ships with it's own JavaScript library. Similar to Plotly. Some of the interactive features look *very* nice - this and Holoviews look like a data *exploration* tool rather visualisation outputs.\n",
    "\n",
    "Has quite good low-level control, but has a limited number of built-in plot types (though that can change easily).\n",
    "\n",
    "Some of the speaker's comments imply there's some issues with internet connectivity?"
   ]
  },
  {
   "cell_type": "markdown",
   "metadata": {},
   "source": [
    "## [Holoviews](https://youtu.be/6d3Yk7a2qYI?t=28m20s)\n",
    "\n",
    "THe aim of this one seems to be to shorten the iterations by having a slightly more complicated initial step (and a bit of a learning curve).\n",
    "\n",
    "> Stop plotting your data - annotate your data and let it visualise itself\n",
    "\n",
    "The ability to re-define plots on the fly looks similar to Bokeh?\n",
    "\n",
    "Can render to multiple different backends."
   ]
  },
  {
   "cell_type": "markdown",
   "metadata": {},
   "source": [
    "## [Plotly](https://youtu.be/6d3Yk7a2qYI?t=28m26s)\n",
    "\n",
    "Interactive. It's a JavaScript library, so at some point it has to pass over to javascript.\n",
    "\n",
    "Based on a declarative JSON schema (it's own one, not vega) pasing to a REST API (plotly.js). Possibly less low-level control than Bokeh.\n",
    "\n",
    "Has APIs for Python, R & MATLAB.\n",
    "\n",
    "Pay to host plot, but offline is possible (and is open-source)."
   ]
  },
  {
   "cell_type": "markdown",
   "metadata": {},
   "source": [
    "## [bqplot](https://youtu.be/6d3Yk7a2qYI?t=29m34s)\n",
    "\n",
    "Interactive and lightweight (**not** for large quantities of data).\n",
    "\n",
    "Built to be compatable with Jupyter."
   ]
  }
 ],
 "metadata": {
  "kernelspec": {
   "display_name": "Python 3",
   "language": "python",
   "name": "python3"
  },
  "language_info": {
   "codemirror_mode": {
    "name": "ipython",
    "version": 3
   },
   "file_extension": ".py",
   "mimetype": "text/x-python",
   "name": "python",
   "nbconvert_exporter": "python",
   "pygments_lexer": "ipython3",
   "version": "3.6.4"
  }
 },
 "nbformat": 4,
 "nbformat_minor": 2
}
