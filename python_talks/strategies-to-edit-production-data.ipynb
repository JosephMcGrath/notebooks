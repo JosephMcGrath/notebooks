{
 "cells": [
  {
   "cell_type": "markdown",
   "metadata": {},
   "source": [
    "# Strategies to Edit Production Data\n",
    "\n",
    "* Julie Qiu\n",
    "* [Youtube Link](https://www.youtube.com/watch?v=43NiFtbNg_s)\n",
    "* PyCon 2018\n",
    "\n",
    "At some point we all have to edit data interactively. This is about making those edits more reliable."
   ]
  },
  {
   "cell_type": "markdown",
   "metadata": {},
   "source": [
    "## [Why We Edit Production Data](https://youtu.be/43NiFtbNg_s?t=1m38s)\n",
    "\n",
    "Editing data in production is genrally really bad practice, so why:\n",
    "\n",
    "* Internal tools aren't available.\n",
    "* Edge cases exist.\n",
    "* Time-sensitive changes are needed and manual edits are easiest.\n",
    "\n",
    "It's not the *worst* practise for simple queries:\n",
    "\n",
    "    UPDATE products\n",
    "    SET name = 'julies-product'\n",
    "    WHERE id = 1;\n",
    "\n",
    "But the clasic last-thing-on-friday pressures might not allow the proper due process (re-used scripts, no checking etc):\n",
    "\n",
    "    UPDATE products\n",
    "    SET name = 'julies-product';\n",
    "\n",
    "And only a few people in the office to fix things."
   ]
  },
  {
   "cell_type": "markdown",
   "metadata": {},
   "source": [
    "## [Strategies for Safer Editing](https://youtu.be/43NiFtbNg_s?t=4m29s)\n",
    "\n",
    "Mistakes will always happen and one big problem with this is that if we just have a raw SQL prompt, we can do *anything*. The strategies suggested are:\n",
    "\n",
    "* Raw SQL spreadsheet,\n",
    "* Local scripts,\n",
    "* Existing server,\n",
    "* Task runner,\n",
    "* Script runner service,\n",
    "\n",
    "In appproximate order of how difficult it is to get up and running."
   ]
  },
  {
   "cell_type": "markdown",
   "metadata": {},
   "source": [
    "## [Strategy 1 - Develop a Review Process for Manual Edits (SQL Spreadsheet)](https://youtu.be/43NiFtbNg_s?t=5m39s)\n",
    "\n",
    "Quite simple, doesn't need any new code, just for spot-checks.\n",
    "\n",
    "The strategy is basically just a combination log of queries and checklist.\n",
    "\n",
    "The checklist runs something like.\n",
    "\n",
    "1. Add a record to the spreadsheet,\n",
    "    * Name,\n",
    "    * Date,\n",
    "    * Description of query,\n",
    "    * Raw query,\n",
    "2. Review looks at the query,\n",
    "    * Reviewer name,\n",
    "    * Reviewer status (approved, comments),\n",
    "    * Reviewer comments,\n",
    "3. Run the query,\n",
    "    * Inside a transaction!\n",
    "\n",
    "### [SQL Spreadsheet - The Good](https://youtu.be/43NiFtbNg_s?t=7m22s)\n",
    "\n",
    "* Really easy to implement,\n",
    "* Generates an audit trail (including 'why' - to spot patterns),\n",
    "* Promotes the right behaviours,\n",
    "* Pushes processes in the right direction,\n",
    "\n",
    "### [SQL Spreadsheet - The Bad](https://youtu.be/43NiFtbNg_s?t=8m57s)\n",
    "\n",
    "* Still easy to make mistakes,\n",
    "* Audit trail is manual,\n",
    "* Doesn't get around problems with long / complex queries timing out on a manual prompt.\n"
   ]
  },
  {
   "cell_type": "markdown",
   "metadata": {},
   "source": [
    "## [Strategy 2 - Run Scripts Locally](https://youtu.be/43NiFtbNg_s?t=10m15s)\n",
    "\n",
    "1. Write a script in the programming language of choice (e.g. Python),\n",
    "    * A dry run option's not a bad idea,\n",
    "2. Connect to remote database,\n",
    "3. Run the script,\n",
    "\n",
    "### [Local Scripts - The Good](https://youtu.be/43NiFtbNg_s?t=11m16s)\n",
    "\n",
    "* More reusable if written well,\n",
    "* Easy to manipulate outputs,\n",
    "* Access to common code in repositories,\n",
    "* Still no infrastructure needed,\n",
    "\n",
    "### [Local Scripts - The Bad](https://youtu.be/43NiFtbNg_s?t=12m9s)\n",
    "\n",
    "* Still easy to make mistakes - not in code review,\n",
    "* Outputs only available locally,\n",
    "* Network connectivity issues,\n",
    "* Doesn't get around long run time issues,\n",
    "    * e.g. an update on a few million fields,\n"
   ]
  },
  {
   "cell_type": "markdown",
   "metadata": {},
   "source": [
    "## [Strategy 3 - Run Scripts On An Existing Server](https://youtu.be/43NiFtbNg_s?t=13m53s)\n",
    "\n",
    "\n"
   ]
  }
 ],
 "metadata": {
  "kernelspec": {
   "display_name": "Python 3",
   "language": "python",
   "name": "python3"
  },
  "language_info": {
   "codemirror_mode": {
    "name": "ipython",
    "version": 3
   },
   "file_extension": ".py",
   "mimetype": "text/x-python",
   "name": "python",
   "nbconvert_exporter": "python",
   "pygments_lexer": "ipython3",
   "version": "3.6.4"
  }
 },
 "nbformat": 4,
 "nbformat_minor": 2
}
