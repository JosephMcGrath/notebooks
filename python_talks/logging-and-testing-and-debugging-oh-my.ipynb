{
 "cells": [
  {
   "cell_type": "markdown",
   "metadata": {},
   "source": [
    "# Logging and Testing and Debugging, Oh My!\n",
    "\n",
    "## Intro\n",
    "\n",
    "* Speaker: Albert Sweigart\n",
    "* [Youtube Link](https://www.youtube.com/watch?v=ONCVvS-gDMA)  \n",
    "* [Link to speaker's notes](http://inventwithpython.com/pybay2017.html)\n",
    "\n",
    "The talk's about logging, testing & debugging - functionality that's useful once programs start to grow."
   ]
  },
  {
   "cell_type": "markdown",
   "metadata": {},
   "source": [
    "## [Logging](https://youtu.be/ONCVvS-gDMA?t=2m10s)\n",
    "\n",
    "### Overview\n",
    "\n",
    "The ````logging```` module's a simple way of doing logging (rather than sprinkling ````print```` through the code).\n",
    "\n",
    "Using this code as an example (removing the ````input```` calls from the talk):"
   ]
  },
  {
   "cell_type": "code",
   "execution_count": 1,
   "metadata": {},
   "outputs": [
    {
     "name": "stdout",
     "output_type": "stream",
     "text": [
      "The sum of  4  and  2  is  42\n"
     ]
    }
   ],
   "source": [
    "first = '4'\n",
    "second = '2'\n",
    "\n",
    "print('The sum of ', first, ' and ', second, ' is ', (first + second))"
   ]
  },
  {
   "cell_type": "markdown",
   "metadata": {},
   "source": [
    "The simple way of debugging these would be with:"
   ]
  },
  {
   "cell_type": "code",
   "execution_count": 2,
   "metadata": {},
   "outputs": [
    {
     "name": "stdout",
     "output_type": "stream",
     "text": [
      "<class 'str'>\n"
     ]
    }
   ],
   "source": [
    "print(type(second))"
   ]
  },
  {
   "cell_type": "markdown",
   "metadata": {},
   "source": [
    "(Called print debugging.). But adding and removing these is time consuming - and means we have to re-add them later. Also legitimate ````print```` calls are disguised and there's no levels of logging.\n",
    "\n",
    "The headline commands are:"
   ]
  },
  {
   "cell_type": "code",
   "execution_count": 3,
   "metadata": {},
   "outputs": [
    {
     "name": "stderr",
     "output_type": "stream",
     "text": [
      "DEBUG:root:The log message.\n"
     ]
    }
   ],
   "source": [
    "import logging\n",
    "\n",
    "logging.basicConfig(level = logging.DEBUG)\n",
    "logging.debug('The log message.')\n",
    "#logging.disable(logging.CRITICAL)"
   ]
  },
  {
   "cell_type": "markdown",
   "metadata": {},
   "source": [
    "These also come through the standard error interface rather than standard out.\n",
    "\n",
    "So the above code with logging is:"
   ]
  },
  {
   "cell_type": "code",
   "execution_count": 4,
   "metadata": {},
   "outputs": [
    {
     "name": "stderr",
     "output_type": "stream",
     "text": [
      "DEBUG:root:<class 'str'>\n",
      "DEBUG:root:<class 'str'>\n"
     ]
    },
    {
     "name": "stdout",
     "output_type": "stream",
     "text": [
      "The sum of  4  and  2  is  42\n"
     ]
    }
   ],
   "source": [
    "def debug_ex():\n",
    "    first = '4'\n",
    "    logging.debug(type(first))\n",
    "    second = '2'\n",
    "    logging.debug(type(second))\n",
    "\n",
    "    print('The sum of ', first, ' and ', second, ' is ', (first + second))\n",
    "\n",
    "debug_ex()"
   ]
  },
  {
   "cell_type": "markdown",
   "metadata": {},
   "source": [
    "Then to disable the logging:"
   ]
  },
  {
   "cell_type": "code",
   "execution_count": 5,
   "metadata": {},
   "outputs": [],
   "source": [
    "logging.disable(logging.CRITICAL)"
   ]
  },
  {
   "cell_type": "markdown",
   "metadata": {},
   "source": [
    "Which disables all logging at critical level or below."
   ]
  },
  {
   "cell_type": "code",
   "execution_count": 6,
   "metadata": {},
   "outputs": [
    {
     "name": "stdout",
     "output_type": "stream",
     "text": [
      "The sum of  4  and  2  is  42\n"
     ]
    }
   ],
   "source": [
    "debug_ex()"
   ]
  },
  {
   "cell_type": "markdown",
   "metadata": {},
   "source": [
    "### [Logging Levels](https://youtu.be/ONCVvS-gDMA?t=9m39s)\n",
    "\n",
    "* DEBUG\n",
    "    * Low level information,\n",
    "    * Variables & values,\n",
    "    * Only use when things go wrong\n",
    "* INFO\n",
    "    * Standard, expected events\n",
    "* WARN\n",
    "    * Nothing's actually gone wrong, but things are behaving in an unexpected way\n",
    "* ERROR\n",
    "    * Things have gone wrong\n",
    "* CRITICAL\n",
    "    * The whole service is down and not coming back up etc\n",
    "\n",
    "The difference between ````logging.DEBUG```` and ````logging.debug()```` is that the upper-case ````DEBUG```` is a constant refering to the level itself, whereas lower-case ````debug```` is a function recording the event.\n",
    "\n",
    "### [Logging to Screen and File](https://youtu.be/ONCVvS-gDMA?t=12m45s)\n",
    "\n",
    "You can also push the logs to a file too:\n"
   ]
  },
  {
   "cell_type": "code",
   "execution_count": 7,
   "metadata": {},
   "outputs": [],
   "source": [
    "# logging.basicConfig(filename = 'log.txt', level = logging.DEBUG)\n",
    "# \n",
    "# debug_ex()"
   ]
  },
  {
   "cell_type": "markdown",
   "metadata": {},
   "source": [
    "And then it's possible to have a command line function monitor the file e.g. ````watch```` or ````tail````."
   ]
  },
  {
   "cell_type": "markdown",
   "metadata": {},
   "source": [
    "## [Debugging with pdb](https://youtu.be/ONCVvS-gDMA?t=16m32s)\n",
    "\n",
    "Logging isn't actually, debugging - it's just providing information to help.\n",
    "\n",
    "A library to properly do this is the python debugger module (pdb). By convention, the import & trace commands are run on one line."
   ]
  },
  {
   "cell_type": "code",
   "execution_count": 8,
   "metadata": {},
   "outputs": [],
   "source": [
    "# import pdb; pdb.set_trace()"
   ]
  },
  {
   "cell_type": "markdown",
   "metadata": {},
   "source": [
    "The above line is inserted at the point where we want the debugger to go. It's got it's own syntax. Useful commands here are:\n",
    "\n",
    "* ````q```` - Quit\n",
    "* ````help```` -  give a list of commands.\n",
    "* ````l````, mainly ````l .```` or ````l [line no]```` - where we are in the code (by line).\n",
    "* ````w```` - where we are in the stack trace.\n",
    "* ````p [variable]```` - evaluate and print a value.\n",
    "* Standard step to commands:\n",
    "    * ````s```` - step into\n",
    "    * ````n```` - next / step into\n",
    "    * ````r```` - return / step out\n",
    "* ````c```` - continue running code"
   ]
  },
  {
   "cell_type": "markdown",
   "metadata": {},
   "source": [
    "## [Testing with doctest](https://youtu.be/ONCVvS-gDMA?t=22m3s)\n",
    "\n",
    "This merges documentation and unit testing. By inserting a specially formatted string into a docstring for a function it will automatically run them as tests. This is definitely lightweight, but very useful for small scripts (not a replacement for ````unittest````)."
   ]
  },
  {
   "cell_type": "code",
   "execution_count": 9,
   "metadata": {},
   "outputs": [
    {
     "name": "stdout",
     "output_type": "stream",
     "text": [
      "**********************************************************************\n",
      "File \"__main__\", line 11, in __main__.add_two_numbers\n",
      "Failed example:\n",
      "    add_two_numbers('4', '2')\n",
      "Expected:\n",
      "    6\n",
      "Got:\n",
      "    '42'\n",
      "**********************************************************************\n",
      "1 items had failures:\n",
      "   1 of   3 in __main__.add_two_numbers\n",
      "***Test Failed*** 1 failures.\n"
     ]
    },
    {
     "data": {
      "text/plain": [
       "TestResults(failed=1, attempted=3)"
      ]
     },
     "execution_count": 9,
     "metadata": {},
     "output_type": "execute_result"
    }
   ],
   "source": [
    "import doctest\n",
    "\n",
    "def add_two_numbers(a, b):\n",
    "    '''\n",
    "    Returns the sum of a and b.\n",
    "    \n",
    "    >>> add_two_numbers(1, 2)\n",
    "    3\n",
    "    >>> add_two_numbers(4, 2)\n",
    "    6\n",
    "    >>> add_two_numbers('4', '2')\n",
    "    6\n",
    "    '''\n",
    "    return a + b\n",
    "\n",
    "doctest.testmod()"
   ]
  },
  {
   "cell_type": "markdown",
   "metadata": {},
   "source": [
    "Kinda makes better documentation too - eveyone loves examples. Particularly as simple tests while building code.\n",
    "\n",
    "There's syntax for more complex tests, but probably best to just switch to ````unittest```` etc.\n",
    "\n",
    "----\n",
    "\n",
    "The generally useful syntax for random files is:"
   ]
  },
  {
   "cell_type": "code",
   "execution_count": 10,
   "metadata": {},
   "outputs": [
    {
     "name": "stdout",
     "output_type": "stream",
     "text": [
      "**********************************************************************\n",
      "File \"__main__\", line 11, in __main__.add_two_numbers\n",
      "Failed example:\n",
      "    add_two_numbers('4', '2')\n",
      "Expected:\n",
      "    6\n",
      "Got:\n",
      "    '42'\n",
      "**********************************************************************\n",
      "1 items had failures:\n",
      "   1 of   3 in __main__.add_two_numbers\n",
      "***Test Failed*** 1 failures.\n"
     ]
    }
   ],
   "source": [
    "if __name__ == '__main__':\n",
    "    import doctest\n",
    "    doctest.testmod()"
   ]
  }
 ],
 "metadata": {
  "kernelspec": {
   "display_name": "Python 3",
   "language": "python",
   "name": "python3"
  },
  "language_info": {
   "codemirror_mode": {
    "name": "ipython",
    "version": 3
   },
   "file_extension": ".py",
   "mimetype": "text/x-python",
   "name": "python",
   "nbconvert_exporter": "python",
   "pygments_lexer": "ipython3",
   "version": "3.6.4"
  }
 },
 "nbformat": 4,
 "nbformat_minor": 2
}
