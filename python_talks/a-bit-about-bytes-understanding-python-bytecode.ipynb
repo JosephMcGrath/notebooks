{
 "cells": [
  {
   "cell_type": "markdown",
   "metadata": {},
   "source": [
    "# A Bit about Bytes: Understanding Python Bytecode\n",
    "\n",
    "* Speaker: James Bennett\n",
    "* [Youtube Link](https://www.youtube.com/watch?v=cSSpnq362Bk)\n",
    "* Date: 12/05/2018\n",
    "* [Con Info Page](https://us.pycon.org/2018/schedule/presentation/127/)\n",
    "\n",
    "## Intro\n",
    "\n",
    "Python is about readable code, but this makes it slow.\n",
    "\n",
    "> You want to write human-friendly source code.\n",
    "> \n",
    "> Your computer wants binary instructions (\"machine code\") for is CPU.\n",
    "\n",
    "We need to get from one to the other:\n",
    "\n",
    "* Can *compile* directly to CPU instructions.\n",
    "* Can *interpret* source code while running.\n",
    "* Can compile an intermediate set of instructions and implement a virtual machine that turns those into CPU instructions while running. Called *bytecode*.\n",
    "    * The instructions aren't for any real CPU, the interpreter implements that CPU for the actual processor.\n",
    "    * Like Java bytecode for JVM.\n",
    "\n",
    "As an example, we're using this Fibonacci generator:"
   ]
  },
  {
   "cell_type": "code",
   "execution_count": 1,
   "metadata": {},
   "outputs": [
    {
     "data": {
      "text/plain": [
       "5"
      ]
     },
     "execution_count": 1,
     "metadata": {},
     "output_type": "execute_result"
    }
   ],
   "source": [
    "def fib(n):\n",
    "    if n < 2:\n",
    "        return n\n",
    "    current, next = 0, 1\n",
    "    while n:\n",
    "        current, next = next, current + next\n",
    "        n -= 1\n",
    "    return current\n",
    "\n",
    "fib(5)"
   ]
  },
  {
   "cell_type": "markdown",
   "metadata": {},
   "source": [
    "would be saved as *fibonacci.py*, but may also produce *fibonacci.pyc*. Python 2 seems to put these directly in the folder with the *.py* file, but Python 3 puts them in the *\\_\\_pycache\\_\\_* folder. Sometimes called compiled code, is pre-compiled down to bytecode.\n",
    "\n",
    "All objects have a ````code```` attribute:"
   ]
  },
  {
   "cell_type": "code",
   "execution_count": 2,
   "metadata": {},
   "outputs": [
    {
     "data": {
      "text/plain": [
       "<code object fib at 0x000001D3F9D5A270, file \"<ipython-input-1-aada8b8bfe46>\", line 1>"
      ]
     },
     "execution_count": 2,
     "metadata": {},
     "output_type": "execute_result"
    }
   ],
   "source": [
    "fib.__code__"
   ]
  },
  {
   "cell_type": "markdown",
   "metadata": {},
   "source": [
    "The speaker references [this talk](https://www.youtube.com/watch?v=XhWvz4dK4ng) for more info on code objects.\n",
    "\n",
    "One useful part is ````co_consts````, which lists all constants referenced by the code:"
   ]
  },
  {
   "cell_type": "code",
   "execution_count": 3,
   "metadata": {},
   "outputs": [
    {
     "data": {
      "text/plain": [
       "(None, 2, 0, 1, (0, 1))"
      ]
     },
     "execution_count": 3,
     "metadata": {},
     "output_type": "execute_result"
    }
   ],
   "source": [
    "fib.__code__.co_consts"
   ]
  },
  {
   "cell_type": "markdown",
   "metadata": {},
   "source": [
    "The addition of ````None```` is notable, as it's needed in case the function ends without an output.\n",
    "\n",
    "Another useful part is ````co_varnames```` (all variables in the function):"
   ]
  },
  {
   "cell_type": "code",
   "execution_count": 4,
   "metadata": {},
   "outputs": [
    {
     "data": {
      "text/plain": [
       "('n', 'current', 'next')"
      ]
     },
     "execution_count": 4,
     "metadata": {},
     "output_type": "execute_result"
    }
   ],
   "source": [
    "fib.__code__.co_varnames"
   ]
  },
  {
   "cell_type": "markdown",
   "metadata": {},
   "source": [
    "And ````co_names```` (all the non-local names), as the example function doesn't use any, it's an empty tuple:"
   ]
  },
  {
   "cell_type": "code",
   "execution_count": 5,
   "metadata": {},
   "outputs": [
    {
     "data": {
      "text/plain": [
       "()"
      ]
     },
     "execution_count": 5,
     "metadata": {},
     "output_type": "execute_result"
    }
   ],
   "source": [
    "fib.__code__.co_names"
   ]
  },
  {
   "cell_type": "markdown",
   "metadata": {},
   "source": [
    "And the part that the speaker's interested in ````co_code```` - this *is* the bytecode of the object. This isn't a string, but a series of bytes:"
   ]
  },
  {
   "cell_type": "code",
   "execution_count": 6,
   "metadata": {},
   "outputs": [
    {
     "data": {
      "text/plain": [
       "b'|\\x00d\\x01k\\x00r\\x0c|\\x00S\\x00d\\x04\\\\\\x02}\\x01}\\x02x\\x1e|\\x00r2|\\x02|\\x01|\\x02\\x17\\x00\\x02\\x00}\\x01}\\x02|\\x00d\\x038\\x00}\\x00q\\x16W\\x00|\\x01S\\x00'"
      ]
     },
     "execution_count": 6,
     "metadata": {},
     "output_type": "execute_result"
    }
   ],
   "source": [
    "fib.__code__.co_code"
   ]
  },
  {
   "cell_type": "markdown",
   "metadata": {},
   "source": [
    "The first character (the pipe) is standing in for a value:"
   ]
  },
  {
   "cell_type": "code",
   "execution_count": 7,
   "metadata": {},
   "outputs": [
    {
     "data": {
      "text/plain": [
       "124"
      ]
     },
     "execution_count": 7,
     "metadata": {},
     "output_type": "execute_result"
    }
   ],
   "source": [
    "ord('|')"
   ]
  },
  {
   "cell_type": "markdown",
   "metadata": {},
   "source": [
    "So the first byte has a byte value of 124 - though that's still referencing something else.\n",
    "\n",
    "The ````dis```` (disassemble) module is in the standard library and has information that can decode these, like the ````opname```` list:"
   ]
  },
  {
   "cell_type": "code",
   "execution_count": 8,
   "metadata": {},
   "outputs": [
    {
     "data": {
      "text/plain": [
       "'LOAD_FAST'"
      ]
     },
     "execution_count": 8,
     "metadata": {},
     "output_type": "execute_result"
    }
   ],
   "source": [
    "import dis\n",
    "dis.opname[ord('|')]"
   ]
  },
  {
   "cell_type": "markdown",
   "metadata": {},
   "source": [
    "So that first pipe is ````LOAD_FAST````. The next value is 0, so the instruction is ````LOAD_FAST 0````. So an instruction to look up in ````co_varnames```` and find what's at index 0 and push it onto the evaluation stack.\n",
    "\n",
    "Before going any further, we can actually use the easy way to look at bytecode:"
   ]
  },
  {
   "cell_type": "code",
   "execution_count": 9,
   "metadata": {},
   "outputs": [
    {
     "name": "stdout",
     "output_type": "stream",
     "text": [
      "  2           0 LOAD_FAST                0 (n)\n",
      "              2 LOAD_CONST               1 (2)\n",
      "              4 COMPARE_OP               0 (<)\n",
      "              6 POP_JUMP_IF_FALSE       12\n",
      "\n",
      "  3           8 LOAD_FAST                0 (n)\n",
      "             10 RETURN_VALUE\n",
      "\n",
      "  4     >>   12 LOAD_CONST               4 ((0, 1))\n",
      "             14 UNPACK_SEQUENCE          2\n",
      "             16 STORE_FAST               1 (current)\n",
      "             18 STORE_FAST               2 (next)\n",
      "\n",
      "  5          20 SETUP_LOOP              30 (to 52)\n",
      "        >>   22 LOAD_FAST                0 (n)\n",
      "             24 POP_JUMP_IF_FALSE       50\n",
      "\n",
      "  6          26 LOAD_FAST                2 (next)\n",
      "             28 LOAD_FAST                1 (current)\n",
      "             30 LOAD_FAST                2 (next)\n",
      "             32 BINARY_ADD\n",
      "             34 ROT_TWO\n",
      "             36 STORE_FAST               1 (current)\n",
      "             38 STORE_FAST               2 (next)\n",
      "\n",
      "  7          40 LOAD_FAST                0 (n)\n",
      "             42 LOAD_CONST               3 (1)\n",
      "             44 INPLACE_SUBTRACT\n",
      "             46 STORE_FAST               0 (n)\n",
      "             48 JUMP_ABSOLUTE           22\n",
      "        >>   50 POP_BLOCK\n",
      "\n",
      "  8     >>   52 LOAD_FAST                1 (current)\n",
      "             54 RETURN_VALUE\n"
     ]
    }
   ],
   "source": [
    "dis.dis(fib)"
   ]
  },
  {
   "cell_type": "markdown",
   "metadata": {},
   "source": [
    "````dis.dis```` will take and disassemble pretty much any Python object.\n",
    "\n",
    "* The number on the far left is the line number in the source code.\n",
    "* Each instruction has a number next to it (always even).\n",
    "    * The offset into the bytecode.\n",
    "    * So the odd ones are the arguments to the instruction (as of Python 3.6 they get an argument whether they want one or not). Making each instruction 2 bytes.\n",
    "* Lines with the double-arrow next to the instruction number are jump targets (may be jumped to by another instruction).\n"
   ]
  },
  {
   "cell_type": "markdown",
   "metadata": {},
   "source": [
    "## [About Python's VM](https://youtu.be/cSSpnq362Bk?t=13m26s)\n",
    "\n",
    "* Built in CPython?\n",
    "* Python's VM is stack-oriented\n",
    "    * Frames are pushed onto the call stack whenever a function is called.\n",
    "        * Keeps track of every function being executed.\n",
    "    * Then popped off the top when the frame returns and the returned value pushed into the calling frame.\n",
    "* CPython has 2 more stacks in the call stack:\n",
    "    * Evaluation stack / Data stack\n",
    "        * Holds variables etc\n",
    "        * Most of the execution happens here.\n",
    "    * Block stack\n",
    "        * Keeps track of blocks (````with```` / ````try/except```` blocks etc).\n",
    "        * Needed as some functionality needs to know what the current block is.\n"
   ]
  },
  {
   "cell_type": "markdown",
   "metadata": {},
   "source": [
    "## [Executing a Function](https://youtu.be/cSSpnq362Bk?t=15m25s)\n",
    "\n",
    "As an example, trying to get the 8th Fibonacci number with our function. This becomes 3 bytecode instructions:\n",
    "\n",
    "````\n",
    "0  LOAD_GLOBAL    0 (fib)\n",
    "2  LOAD_CONST     1 (8)\n",
    "4  CALL_FUNCTION  1 \n",
    "````\n",
    "\n",
    "So when we start we have an empty evaluation stack, this gets loaded up with the three instructions:\n",
    "\n",
    "* ````LOAD_GLOBAL```` - Load the global name ````fib```` - our Fibonacci function.\n",
    "    * Looks in the ````co_names```` tuple.\n",
    "* ````LOAD_CONST```` - Gets the nth item out of the tuple of constants.\n",
    "    * Index 0 would be ````None````, so the argument is 1.\n",
    "* ````CALL_FUNCTION```` with an argument 1 (the number of positional arguments).\n",
    "    * When we're only using positional arguments, Python will push the function and all its arguments onto the stack until it hits ````CALL_FUNCTION```` when it pops all of them off.\n",
    "    * Pushes a new frame onto the Call stack, executes the Fibonacci function in that frame.\n",
    "    * Gets a return value of 21, pops that off the Call stack.\n",
    "    * Pushes the new value back onto the Evaluation stack where we called the Fibonacci function.\n",
    "\n",
    "````CALL_FUNCTION```` is only for positional arguments, if keywords are used, then it calls ````CALL_FUNCTION_KW```` or ````CALL_FUNCTION_EX```` for various list unpacking methods.\n",
    "\n",
    "The [dis module documents](https://docs.python.org/3/library/dis.html) have a lot of useful info on all the bytecode instructions. Other useful commands in the module include [distb](https://docs.python.org/3/library/dis.html#dis.distb), for deconstructing stack traces and gives a pointer to where the exception was raised.\n",
    "\n",
    "The interpreter itself is written in C. The main body of it is a giant ````switch```` (case) statement."
   ]
  },
  {
   "cell_type": "markdown",
   "metadata": {},
   "source": [
    "## [What Can we Learn From Bytecode](https://youtu.be/cSSpnq362Bk?t=19m28s)\n",
    "\n",
    "The main actual use of Python bytecode is understanding what exactly's going on and how Python works. In particular from a performance point of view.\n",
    "\n",
    "For example, two functions to calculate the number of seconds in a week:"
   ]
  },
  {
   "cell_type": "code",
   "execution_count": 10,
   "metadata": {},
   "outputs": [
    {
     "name": "stdout",
     "output_type": "stream",
     "text": [
      "  2           0 LOAD_CONST               1 (86400)\n",
      "              2 STORE_FAST               0 (SECONDS_PER_DAY)\n",
      "\n",
      "  3           4 LOAD_FAST                0 (SECONDS_PER_DAY)\n",
      "              6 LOAD_CONST               2 (7)\n",
      "              8 BINARY_MULTIPLY\n",
      "             10 RETURN_VALUE\n"
     ]
    }
   ],
   "source": [
    "def slow_week():\n",
    "    SECONDS_PER_DAY = 86400\n",
    "    return SECONDS_PER_DAY * 7\n",
    "\n",
    "dis.dis(slow_week)"
   ]
  },
  {
   "cell_type": "code",
   "execution_count": 11,
   "metadata": {},
   "outputs": [
    {
     "name": "stdout",
     "output_type": "stream",
     "text": [
      "  2           0 LOAD_CONST               3 (604800)\n",
      "              2 RETURN_VALUE\n"
     ]
    }
   ],
   "source": [
    "def fast_week():\n",
    "    return 86400 * 7\n",
    "\n",
    "dis.dis(fast_week)"
   ]
  },
  {
   "cell_type": "markdown",
   "metadata": {},
   "source": [
    "The second one doesn't have to run values through constants here.\n",
    "\n",
    "One interesting point is that Python's merged down the numbers at compile time, so the multiplication doesn't repeatedly happen. Python also does a bit of branch prediction optimisation too, along with a few other bits.\n",
    "\n",
    "Other examples are the performance of different ways of creating dictionaries:"
   ]
  },
  {
   "cell_type": "code",
   "execution_count": 12,
   "metadata": {},
   "outputs": [
    {
     "name": "stdout",
     "output_type": "stream",
     "text": [
      "  1           0 BUILD_MAP                0\n",
      "              2 RETURN_VALUE\n"
     ]
    }
   ],
   "source": [
    "dis.dis('{}')"
   ]
  },
  {
   "cell_type": "code",
   "execution_count": 13,
   "metadata": {},
   "outputs": [
    {
     "name": "stdout",
     "output_type": "stream",
     "text": [
      "  1           0 LOAD_NAME                0 (dict)\n",
      "              2 CALL_FUNCTION            0\n",
      "              4 RETURN_VALUE\n"
     ]
    }
   ],
   "source": [
    "dis.dis('dict()')"
   ]
  },
  {
   "cell_type": "markdown",
   "metadata": {},
   "source": [
    "So calling ````dict```` both has more instructions and one of them is a call (which is expensive as it puts another frame on the call stack)."
   ]
  },
  {
   "cell_type": "markdown",
   "metadata": {},
   "source": [
    "### [Example Function Optimisation](https://youtu.be/cSSpnq362Bk?t=24m11s)\n",
    "\n",
    "With a function to calculate the first 10 perfect squares"
   ]
  },
  {
   "cell_type": "code",
   "execution_count": 14,
   "metadata": {},
   "outputs": [
    {
     "name": "stdout",
     "output_type": "stream",
     "text": [
      "  2           0 BUILD_LIST               0\n",
      "              2 STORE_FAST               0 (squares)\n",
      "\n",
      "  3           4 LOAD_CONST               1 (0)\n",
      "              6 STORE_FAST               1 (i)\n",
      "\n",
      "  4           8 SETUP_LOOP              34 (to 44)\n",
      "        >>   10 LOAD_FAST                1 (i)\n",
      "             12 LOAD_CONST               2 (10)\n",
      "             14 COMPARE_OP               1 (<=)\n",
      "             16 POP_JUMP_IF_FALSE       42\n",
      "\n",
      "  5          18 LOAD_FAST                0 (squares)\n",
      "             20 LOAD_ATTR                0 (append)\n",
      "             22 LOAD_FAST                1 (i)\n",
      "             24 LOAD_CONST               3 (2)\n",
      "             26 BINARY_POWER\n",
      "             28 CALL_FUNCTION            1\n",
      "             30 POP_TOP\n",
      "\n",
      "  6          32 LOAD_FAST                1 (i)\n",
      "             34 LOAD_CONST               4 (1)\n",
      "             36 INPLACE_ADD\n",
      "             38 STORE_FAST               1 (i)\n",
      "             40 JUMP_ABSOLUTE           10\n",
      "        >>   42 POP_BLOCK\n",
      "\n",
      "  7     >>   44 LOAD_FAST                0 (squares)\n",
      "             46 RETURN_VALUE\n"
     ]
    }
   ],
   "source": [
    "def squares_while():\n",
    "    squares = []\n",
    "    i = 0\n",
    "    while i <= 10:\n",
    "        squares.append(i ** 2)\n",
    "        i += 1\n",
    "    return squares\n",
    "\n",
    "dis.dis(squares_while)"
   ]
  },
  {
   "cell_type": "markdown",
   "metadata": {},
   "source": [
    "Changing the while loop with counter to for loop with range:"
   ]
  },
  {
   "cell_type": "code",
   "execution_count": 15,
   "metadata": {},
   "outputs": [
    {
     "name": "stdout",
     "output_type": "stream",
     "text": [
      "  2           0 BUILD_LIST               0\n",
      "              2 STORE_FAST               0 (squares)\n",
      "\n",
      "  3           4 SETUP_LOOP              32 (to 38)\n",
      "              6 LOAD_GLOBAL              0 (range)\n",
      "              8 LOAD_CONST               1 (1)\n",
      "             10 LOAD_CONST               2 (11)\n",
      "             12 CALL_FUNCTION            2\n",
      "             14 GET_ITER\n",
      "        >>   16 FOR_ITER                18 (to 36)\n",
      "             18 STORE_FAST               1 (i)\n",
      "\n",
      "  4          20 LOAD_FAST                0 (squares)\n",
      "             22 LOAD_ATTR                1 (append)\n",
      "             24 LOAD_FAST                1 (i)\n",
      "             26 LOAD_CONST               3 (2)\n",
      "             28 BINARY_POWER\n",
      "             30 CALL_FUNCTION            1\n",
      "             32 POP_TOP\n",
      "             34 JUMP_ABSOLUTE           16\n",
      "        >>   36 POP_BLOCK\n",
      "\n",
      "  5     >>   38 LOAD_FAST                0 (squares)\n",
      "             40 RETURN_VALUE\n"
     ]
    }
   ],
   "source": [
    "def squares_range():\n",
    "    squares = []\n",
    "    for i in range(1, 11):\n",
    "        squares.append(i ** 2)\n",
    "    return squares\n",
    "\n",
    "dis.dis(squares_range)"
   ]
  },
  {
   "cell_type": "markdown",
   "metadata": {},
   "source": [
    "We start to pull down the number of operations by doing less things explicitly.\n",
    "\n",
    "Going further into idiomatic Python:"
   ]
  },
  {
   "cell_type": "code",
   "execution_count": 16,
   "metadata": {},
   "outputs": [
    {
     "name": "stdout",
     "output_type": "stream",
     "text": [
      "  2           0 LOAD_CONST               1 (<code object <listcomp> at 0x000001D3F9DE3DB0, file \"<ipython-input-16-3b0ae924b76d>\", line 2>)\n",
      "              2 LOAD_CONST               2 ('squares_comprehension.<locals>.<listcomp>')\n",
      "              4 MAKE_FUNCTION            0\n",
      "              6 LOAD_GLOBAL              0 (range)\n",
      "              8 LOAD_CONST               3 (1)\n",
      "             10 LOAD_CONST               4 (11)\n",
      "             12 CALL_FUNCTION            2\n",
      "             14 GET_ITER\n",
      "             16 CALL_FUNCTION            1\n",
      "             18 RETURN_VALUE\n"
     ]
    }
   ],
   "source": [
    "def squares_comprehension():\n",
    "    return [i ** 2 for i in range(1, 11)]\n",
    "\n",
    "dis.dis(squares_comprehension)"
   ]
  },
  {
   "cell_type": "markdown",
   "metadata": {},
   "source": [
    "Though not all calls are equal in costs (this requires both ````MAKE_FUNCTION```` and ````CALL_FUNCTION````, which are both expensive).\n",
    "\n",
    "This starts to run into the territory of micro-optimisations pretty quickly, in which case you probably should just use functions implemented in C. There's very little contest."
   ]
  },
  {
   "cell_type": "markdown",
   "metadata": {},
   "source": [
    "## [General Guidelines](https://youtu.be/cSSpnq362Bk?t=26m16s)\n",
    "\n",
    "* Local names are faster than guidelines.\n",
    "    * ````LOAD_CONST```` > ````LOAD_FAST```` > ````LOAD_NAME```` or ````LOAD_GLOBAL````.\n",
    "    * The wider the search space, the slower the search (particularly if we don't know which place to look).\n",
    "* Loops and blocks are expensive.\n",
    "    * e.g. ````SETUP_LOOP````, ````SETUP_WITH```` and ````SETUP_EXCEPTION````.\n",
    "    * I'm not sure what the balance of resilient code and quick code is here (e.g. closing files after an error).\n",
    "* Attribute access, dictionary access etc is expensive.\n",
    "    * Make sure it's being aliased to a local variable.\n"
   ]
  },
  {
   "cell_type": "markdown",
   "metadata": {},
   "source": [
    "## [Recommended Reading](https://youtu.be/cSSpnq362Bk?t=28m10s)\n",
    "\n",
    "* [Inside the Python Virtual Machine, Obj Ike-Nwosu](https://leanpub.com/insidethepythonvirtualmachine)\n",
    "* [A Python Interpreter Written in Python, Alison Kaptur](http://www.aosabook.org/en/500L/a-python-interpreter-written-in-python.html)\n",
    "* [The CPython bytecode interpreter](https://github.com/python/cpython/blob/master/Python/ceval.c)\n"
   ]
  }
 ],
 "metadata": {
  "kernelspec": {
   "display_name": "Python 3",
   "language": "python",
   "name": "python3"
  },
  "language_info": {
   "codemirror_mode": {
    "name": "ipython",
    "version": 3
   },
   "file_extension": ".py",
   "mimetype": "text/x-python",
   "name": "python",
   "nbconvert_exporter": "python",
   "pygments_lexer": "ipython3",
   "version": "3.6.4"
  }
 },
 "nbformat": 4,
 "nbformat_minor": 2
}
