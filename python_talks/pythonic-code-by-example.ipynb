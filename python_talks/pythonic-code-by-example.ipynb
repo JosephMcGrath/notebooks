{
 "cells": [
  {
   "cell_type": "markdown",
   "metadata": {},
   "source": [
    "# Pythonic Code, By Example\n",
    "\n",
    "## Intro\n",
    "\n",
    "* Speaker: Michael Kennedy\n",
    "* [Youtube Link](https://www.youtube.com/watch?v=o0LohkA3UR4)  \n",
    "* [Link to code](https://github.com/mikeckennedy/pycon-sk-pythonic-talk)  \n",
    "\n",
    "> The idea of writing idiomatic code that is most aligned with the language features and ideals is a key concept in Python.\n",
    ">\n",
    "> We call this idiomatic code Pythonic.\n",
    "\n",
    "The definition of 'Pythonic' is a bit fuzzy but [Zen of Python](https://www.python.org/dev/peps/pep-0020/) is a good place to begin, but has a bit of a tension between convention and practicality hard-coded in.\n",
    "\n",
    "As far as I can tell, Pythonic code tends to use the features of the language in a way that makes it obvious what's going on at a glance. Many of the most Pythonic practises tends to run more efficiently too (due to a mix of heavy tuning and CPython).\n",
    "\n",
    "## [String Formatting](https://youtu.be/o0LohkA3UR4?t=5m32s)\n",
    "\n",
    "There's a bunch of ways of writing string formatting with pre-defined variables:"
   ]
  },
  {
   "cell_type": "code",
   "execution_count": 1,
   "metadata": {},
   "outputs": [],
   "source": [
    "name = 'Michael'\n",
    "age = 43"
   ]
  },
  {
   "cell_type": "markdown",
   "metadata": {},
   "source": [
    "This is a general non language-specific way of working:"
   ]
  },
  {
   "cell_type": "code",
   "execution_count": 2,
   "metadata": {},
   "outputs": [
    {
     "name": "stdout",
     "output_type": "stream",
     "text": [
      "Hi, I'm Michael and I'm 43 years old.\n"
     ]
    }
   ],
   "source": [
    "print(\"Hi, I'm \" + name + \" and I'm \" + str(age) + \" years old.\")"
   ]
  },
  {
   "cell_type": "markdown",
   "metadata": {},
   "source": [
    "Or ````printf```` style formatting:"
   ]
  },
  {
   "cell_type": "code",
   "execution_count": 3,
   "metadata": {},
   "outputs": [
    {
     "name": "stdout",
     "output_type": "stream",
     "text": [
      "Hi, I'm Michael and I'm 43 years old.\n"
     ]
    }
   ],
   "source": [
    "print(\"Hi, I'm %s and I'm %d years old.\" % (name, age))"
   ]
  },
  {
   "cell_type": "markdown",
   "metadata": {},
   "source": [
    "Or with the ````format```` method:"
   ]
  },
  {
   "cell_type": "code",
   "execution_count": 4,
   "metadata": {},
   "outputs": [
    {
     "name": "stdout",
     "output_type": "stream",
     "text": [
      "Hi, I'm Michael and I'm 43 years old.\n",
      "Hi, I'm 43 years old and my name is Michael, yeah 43.\n"
     ]
    }
   ],
   "source": [
    "print(\"Hi, I'm {} and I'm {} years old.\".format(name, age))\n",
    "print(\"Hi, I'm {1} years old and my name is {0}, yeah {1}.\".format(name, age))"
   ]
  },
  {
   "cell_type": "markdown",
   "metadata": {},
   "source": [
    "Or with a dictionary:"
   ]
  },
  {
   "cell_type": "code",
   "execution_count": 5,
   "metadata": {},
   "outputs": [
    {
     "name": "stdout",
     "output_type": "stream",
     "text": [
      "On Saturday I was working in my Home office!\n"
     ]
    }
   ],
   "source": [
    "data = {'day': 'Saturday', 'office': 'Home office', 'other': 'UNUSED'}\n",
    "print(\"On {day} I was working in my {office}!\".format(**data))"
   ]
  },
  {
   "cell_type": "markdown",
   "metadata": {},
   "source": [
    "Or in Python 3.6+ there's f-strings, shorter and can take arbitary Python expressions:"
   ]
  },
  {
   "cell_type": "code",
   "execution_count": 6,
   "metadata": {},
   "outputs": [
    {
     "name": "stdout",
     "output_type": "stream",
     "text": [
      "Hi, I'm Michael and I'm 44 years old.\n"
     ]
    }
   ],
   "source": [
    "print(f\"Hi, I'm {name} and I'm {age+1} years old.\")"
   ]
  },
  {
   "cell_type": "markdown",
   "metadata": {},
   "source": [
    "These also get more performant going down.\n",
    "\n",
    "## [Merging Dictionaries](https://youtu.be/o0LohkA3UR4?t=8m8s)\n",
    "\n",
    "(Python 3 only)\n",
    "\n",
    "Say we want to mash a few dictionaries together in a web app. Also we need to ensure priority of the merging."
   ]
  },
  {
   "cell_type": "code",
   "execution_count": 7,
   "metadata": {},
   "outputs": [],
   "source": [
    "route = {'id': 271, 'title': 'Fast apps'}\n",
    "query = {'id': 1, 'render_fast': True}\n",
    "post = {'email': 'j@j.com', 'name': 'Jeff'}"
   ]
  },
  {
   "cell_type": "markdown",
   "metadata": {},
   "source": [
    "* Route is the most important,\n",
    "* Query is least important (user can mess with it the most in the url)\n",
    "\n",
    "This is done by overwriting elements (so the last one has highest priority):"
   ]
  },
  {
   "cell_type": "code",
   "execution_count": 8,
   "metadata": {},
   "outputs": [
    {
     "name": "stdout",
     "output_type": "stream",
     "text": [
      "{'id': 271, 'render_fast': True, 'email': 'j@j.com', 'name': 'Jeff', 'title': 'Fast apps'}\n"
     ]
    }
   ],
   "source": [
    "m1 = {}\n",
    "for k in query:\n",
    "    m1[k] = query[k]\n",
    "for k in post:\n",
    "    m1[k] = post[k]\n",
    "for k in route:\n",
    "    m1[k] = route[k]\n",
    "\n",
    "print(m1)"
   ]
  },
  {
   "cell_type": "markdown",
   "metadata": {},
   "source": [
    "There's a few ways of doing it, but the 'most pythonic' is:"
   ]
  },
  {
   "cell_type": "code",
   "execution_count": 9,
   "metadata": {},
   "outputs": [
    {
     "name": "stdout",
     "output_type": "stream",
     "text": [
      "{'id': 271, 'render_fast': True, 'email': 'j@j.com', 'name': 'Jeff', 'title': 'Fast apps'}\n"
     ]
    }
   ],
   "source": [
    "m4 = {**query, **post, **route}\n",
    "print(m4)"
   ]
  },
  {
   "cell_type": "markdown",
   "metadata": {},
   "source": [
    "This has the exact same output and is much smaller.\n",
    "\n",
    "## [Keyword Arguments](https://youtu.be/o0LohkA3UR4?t=10m8s)\n",
    "\n",
    "(Python 3 only)\n",
    "\n",
    "With functions where it's really important that the correct values are being sent to the correct keywords in a function call, it can be forced using:"
   ]
  },
  {
   "cell_type": "code",
   "execution_count": 10,
   "metadata": {},
   "outputs": [
    {
     "name": "stdout",
     "output_type": "stream",
     "text": [
      "Connect v2, called with: \n",
      "User = mkennedy\n",
      "Server = db_svr\n",
      "Replicate = True\n",
      "Use SSL = False\n",
      "\n"
     ]
    }
   ],
   "source": [
    "def connect_v2(*, user, server, replicate, use_ssl):\n",
    "    print(\"Connect v2, called with: \")\n",
    "    print(f\"User = {user}\")\n",
    "    print(f\"Server = {server}\")\n",
    "    print(f\"Replicate = {replicate}\")\n",
    "    print(f\"Use SSL = {use_ssl}\")\n",
    "    print()\n",
    "\n",
    "connect_v2(user='mkennedy', server='db_svr', replicate=True, use_ssl=False)"
   ]
  },
  {
   "cell_type": "markdown",
   "metadata": {},
   "source": [
    "In this example, we can avoid potential issues where replication and ssl are accidentally swapped (or have their order swapped during later development). I probably wouldn't use this *every* time but it seems really useful for key functions.\n",
    "\n",
    "## [On demand computations with yield](https://youtu.be/o0LohkA3UR4?t=11m50s)\n",
    "\n",
    "(Python 3 only)\n",
    "\n",
    "With big sequences, using ````yeild```` rather than ````return```` means the computation is left to the last minute. This can improve performance with recursion too:"
   ]
  },
  {
   "cell_type": "code",
   "execution_count": 11,
   "metadata": {},
   "outputs": [],
   "source": [
    "def get_files(folder):\n",
    "    for item in os.listdir(folder):\n",
    "\n",
    "        full_item = os.path.join(folder, item)\n",
    "        if os.path.isfile(full_item):\n",
    "            yield full_item\n",
    "        elif os.path.isdir(full_item):\n",
    "            yield from get_files(full_item)"
   ]
  },
  {
   "cell_type": "markdown",
   "metadata": {},
   "source": [
    "Using ````yield from```` says to take all of the results and add them to the set.\n",
    "\n",
    "These Python 3 syntax structures are a major reason to switch, countering the libraries only available in Python 2.\n",
    "\n",
    "## [Counting Iterable](https://youtu.be/o0LohkA3UR4?t=14m18s)\n",
    "\n",
    "If we have an iterable that's not got ````len```` defined for it - the obvious way to count would be a for loop."
   ]
  },
  {
   "cell_type": "code",
   "execution_count": 12,
   "metadata": {},
   "outputs": [],
   "source": [
    "import collections\n",
    "import uuid\n",
    "\n",
    "Measurement = collections.namedtuple('Measurement', 'id x y value')\n",
    "\n",
    "measurements = [\n",
    "    Measurement(str(uuid.uuid4()), 1, 1, 72),\n",
    "    Measurement(str(uuid.uuid4()), 2, 1, 40),\n",
    "    Measurement(str(uuid.uuid4()), 3, 1, 11),\n",
    "    Measurement(str(uuid.uuid4()), 2, 1, 90),\n",
    "    Measurement(str(uuid.uuid4()), 2, 2, 60),\n",
    "    Measurement(str(uuid.uuid4()), 2, 3, 73),\n",
    "    Measurement(str(uuid.uuid4()), 3, 1, 40),\n",
    "    Measurement(str(uuid.uuid4()), 3, 2, 44),\n",
    "    Measurement(str(uuid.uuid4()), 3, 3, 90)\n",
    "]\n",
    "\n",
    "high_values = (\n",
    "    m.value\n",
    "    for m in measurements\n",
    "    if m.value >= 70\n",
    ")"
   ]
  },
  {
   "cell_type": "markdown",
   "metadata": {},
   "source": [
    "Instead an in-line generator is a lot quicker. By convention, a variable we don't care about should be an underscore."
   ]
  },
  {
   "cell_type": "code",
   "execution_count": 13,
   "metadata": {},
   "outputs": [
    {
     "name": "stdout",
     "output_type": "stream",
     "text": [
      "4\n",
      "4\n"
     ]
    }
   ],
   "source": [
    "print(sum(1 for _ in high_values))\n",
    "print(sum(1 for m in measurements if m.value >= 70))"
   ]
  },
  {
   "cell_type": "markdown",
   "metadata": {},
   "source": [
    "## [Slicing infinity](https://youtu.be/o0LohkA3UR4?t=15m22s)\n",
    "\n",
    "Python's one-ended slices (e.g. ````the_list[:5]````) are really useful, but don't work without a ````__getitem__```` method by default. The ````itertools```` library adds this functionality back in."
   ]
  },
  {
   "cell_type": "code",
   "execution_count": 14,
   "metadata": {},
   "outputs": [
    {
     "name": "stdout",
     "output_type": "stream",
     "text": [
      "[1, 1, 2, 3, 5]\n"
     ]
    }
   ],
   "source": [
    "def generator_fibonacci():\n",
    "    current, nxt = 0, 1\n",
    "\n",
    "    while True:\n",
    "        current, nxt = nxt, nxt + current\n",
    "        yield current\n",
    "\n",
    "import itertools\n",
    "print(list(itertools.islice(generator_fibonacci(), 5)))"
   ]
  },
  {
   "cell_type": "markdown",
   "metadata": {},
   "source": [
    "## [Hacking Python's memory with slots](https://youtu.be/o0LohkA3UR4?t=17m25s)\n",
    "\n",
    "[The blog post mentioned](http://tech.oyster.com/save-ram-with-python-slots/)\n",
    "\n",
    "Python's ````__slots__```` method when defining a class is a way of pre-defining a set of variables, rather than the default dynamic way. However it does totally fix the attributes of the class (*can't* have more).\n",
    "\n",
    "By default Python uses a dictionary to store the names of attributes of a class, and generates a new dictionary for *each instance* of the class. Normally not a problem but at large scales it starts to fill memory with copies of the attribute names that are surplus to requirements.\n",
    "\n",
    "This is not great practise for general use as it's a big hit to maintainability - a case of 'Although practicality beats purity.' compared to 'Special cases aren't special enough to break the rules.'."
   ]
  },
  {
   "cell_type": "code",
   "execution_count": 15,
   "metadata": {},
   "outputs": [],
   "source": [
    "class ImmutableThing:\n",
    "    __slots__ = ['a', 'b', 'c', 'd']\n",
    "\n",
    "    def __init__(self, a, b, c, d):\n",
    "        self.a = a\n",
    "        self.b = b\n",
    "        self.c = c\n",
    "        self.d = d"
   ]
  },
  {
   "cell_type": "markdown",
   "metadata": {},
   "source": [
    "In the talk, the speaker ran a few tests, with the following results:\n",
    "\n",
    "test name       | memory (MB) | Execution time (s) \n",
    "----------------|-------------|--------------------  \n",
    "straight tuple  | 207         | 0.528455\n",
    "named tuple     | 215         | 1.519358\n",
    "class (dynamic) | 370         | 1.680248\n",
    "slot class      | 120         | 1.438989\n",
    "\n",
    "So not more time efficient (as there's still more going on than in a straight tuple), but it's significantly more efficient.\n"
   ]
  }
 ],
 "metadata": {
  "kernelspec": {
   "display_name": "Python 3",
   "language": "python",
   "name": "python3"
  },
  "language_info": {
   "codemirror_mode": {
    "name": "ipython",
    "version": 3
   },
   "file_extension": ".py",
   "mimetype": "text/x-python",
   "name": "python",
   "nbconvert_exporter": "python",
   "pygments_lexer": "ipython3",
   "version": "3.6.4"
  }
 },
 "nbformat": 4,
 "nbformat_minor": 2
}
