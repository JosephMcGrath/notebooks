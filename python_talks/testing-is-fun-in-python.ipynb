{
 "cells": [
  {
   "cell_type": "markdown",
   "metadata": {},
   "source": [
    "# Testing is Fun in Python!\n",
    "\n",
    "* Speaker: Andrew Knight\n",
    "* [Youtube Link](https://www.youtube.com/watch?v=Sb2tz9Hlbp8)"
   ]
  },
  {
   "cell_type": "markdown",
   "metadata": {},
   "source": [
    "## Intro\n",
    "\n",
    "This is more of an overview, rather than going into detail on any particular library.\n",
    "\n",
    "The general assumption is always that everyone writes imperfect code.\n",
    "\n",
    "[Testing is not debugging:](https://youtu.be/Sb2tz9Hlbp8?t=3m1s)\n",
    "\n",
    "> * Testing is the process of validating product features and identifying any project defects.\n",
    "> * Debugging is the manual process of stepping through software code to find one-off programming errors.\n",
    "\n",
    "Just banging your head against the code until it doesn't crash is debugging, not testing.\n",
    "\n",
    "Two big divides in testing type are manual vs automated and exploratory vs planned. This talk is generally on automated, planned testing (manual planned is more of a specialised QA job).\n",
    "\n",
    "\n",
    "### [Why Automate Tests?](https://youtu.be/Sb2tz9Hlbp8?t=6m7s)\n",
    "\n",
    "> * You need to test the code anyway,\n",
    "> * Automated tests can be rerun easily and quickly, (particularly continuous integration environments).\n",
    "> * They can be scheduled to run at any time,\n",
    "> * They check if new code changes break anything, (defensive tests)\n",
    "> * They don't make mistakes when they run, (same tests every time)\n",
    "> * They can print pretty test result reports,\n",
    "> * They can show code coverage,\n",
    "> * They formalize the test approach\n",
    "\n",
    "### [Writing Good Tests](https://youtu.be/Sb2tz9Hlbp8?t=9m51s)\n",
    "\n",
    "* Know the scope of testing.\n",
    "    * Simple unit tests or more complex tracing?\n",
    "    * There's many frameworks, pick the right one.\n",
    "    * Testing your own code, or someone else's you're integrating.\n",
    "* Single test to test a single thing.\n",
    "    * Makes it much easier to identify the problem.\n",
    "* Simplest minimal setup / inputs / config necessary.\n",
    "    * May have to share with another team.\n",
    "* Write out the spec *before* programming them.\n",
    "* Separate common logic into shared test libraries.\n",
    "    * The normal DRY programming logic still applies.\n",
    "    * Good practise for regular code is good practise for test code.\n",
    "* Functional tests should be deterministic.\n",
    "    * Same result every time.\n",
    "* Leave no trace on the system.\n",
    "    * Tear down what you set up."
   ]
  },
  {
   "cell_type": "markdown",
   "metadata": {},
   "source": [
    "## The Libraries\n",
    "\n",
    "### [unittest](https://youtu.be/Sb2tz9Hlbp8?t=13m39s)\n",
    "\n",
    "This is the standard unit test framework.\n",
    "\n",
    "Tests are written as a ````TestCase```` subclass.\n",
    "\n",
    "* Contains ````setUp````, ````tearDown```` and assertion methods\n",
    "* Methods prefixed with ````test_````.\n",
    "* Good for basic unit testing.\n",
    "* Can add on XML reporting with an additional module.\n",
    "\n",
    "Downsides:\n",
    "\n",
    "* Every test must be a ````TestCase```` subclass.\n",
    "* No parameterised test cases, it's all hardcoded.\n",
    "\n",
    "[current progress](https://youtu.be/Sb2tz9Hlbp8?t=16m14s)\n"
   ]
  }
 ],
 "metadata": {
  "kernelspec": {
   "display_name": "Python 3",
   "language": "python",
   "name": "python3"
  },
  "language_info": {
   "codemirror_mode": {
    "name": "ipython",
    "version": 3
   },
   "file_extension": ".py",
   "mimetype": "text/x-python",
   "name": "python",
   "nbconvert_exporter": "python",
   "pygments_lexer": "ipython3",
   "version": "3.6.4"
  }
 },
 "nbformat": 4,
 "nbformat_minor": 2
}
